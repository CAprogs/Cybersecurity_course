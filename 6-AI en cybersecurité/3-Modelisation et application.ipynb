{
 "cells": [
  {
   "cell_type": "markdown",
   "metadata": {},
   "source": [
    "Feature Engineering"
   ]
  },
  {
   "cell_type": "code",
   "execution_count": 1,
   "metadata": {},
   "outputs": [],
   "source": [
    "# Importer des bibliothèques\n",
    "import pandas as pd \n",
    "import matplotlib.pyplot as plt\n",
    "import seaborn as sns\n",
    "from sklearn.model_selection import train_test_split, GridSearchCV\n",
    "from sklearn.preprocessing import StandardScaler\n",
    "from sklearn.linear_model import LogisticRegression\n",
    "from sklearn.tree import DecisionTreeClassifier\n",
    "from sklearn.naive_bayes import GaussianNB\n",
    "from sklearn.svm import SVC\n",
    "from sklearn.ensemble import RandomForestClassifier\n",
    "from sklearn.metrics import accuracy_score, classification_report, confusion_matrix, precision_recall_fscore_support"
   ]
  },
  {
   "cell_type": "code",
   "execution_count": 2,
   "metadata": {},
   "outputs": [],
   "source": [
    "# Lire l'ensemble des données\n",
    "\n",
    "df = pd.read_csv('/Users/charles-albert/Desktop/Cybersecurity_course/6-AI en cybersecurité/Data/phishing_dataset.csv')\n"
   ]
  },
  {
   "cell_type": "code",
   "execution_count": 3,
   "metadata": {},
   "outputs": [],
   "source": [
    "# Séparer les variables (X) et la variable cible (y)\n",
    "X = df.drop('phishing', axis=1)  # Assuming 'phishing' is the target variable\n",
    "y = df['phishing']"
   ]
  },
  {
   "cell_type": "code",
   "execution_count": 4,
   "metadata": {},
   "outputs": [],
   "source": [
    "# Mettre à l'échelle à l'aide de StandardScaler\n",
    "scaler = StandardScaler()\n",
    "X_scaled = scaler.fit_transform(X)"
   ]
  },
  {
   "cell_type": "code",
   "execution_count": 5,
   "metadata": {},
   "outputs": [],
   "source": [
    "# Diviser l'ensemble des données en train et de test\n",
    "# Ajuster les paramètres test_size et random_state si nécessaire\n",
    "X_train, X_test, y_train, y_test = train_test_split(X_scaled, y, test_size=0.2, random_state=42)"
   ]
  },
  {
   "cell_type": "code",
   "execution_count": 6,
   "metadata": {},
   "outputs": [
    {
     "name": "stdout",
     "output_type": "stream",
     "text": [
      "Training set shape: (70917, 111) (70917,)\n",
      "Testing set shape: (17730, 111) (17730,)\n"
     ]
    }
   ],
   "source": [
    "# Afficher la taille des données résultantes\n",
    "print(\"Training set shape:\", X_train.shape, y_train.shape)\n",
    "print(\"Testing set shape:\", X_test.shape, y_test.shape)"
   ]
  },
  {
   "cell_type": "markdown",
   "metadata": {},
   "source": [
    "La modélisation"
   ]
  },
  {
   "cell_type": "markdown",
   "metadata": {},
   "source": [
    "Régression logistique"
   ]
  },
  {
   "cell_type": "code",
   "execution_count": 7,
   "metadata": {},
   "outputs": [
    {
     "name": "stdout",
     "output_type": "stream",
     "text": [
      "Accuracy: 0.9327693175408911\n",
      "\n",
      "Confusion Matrix:\n",
      " [[10946   666]\n",
      " [  526  5592]]\n",
      "\n",
      "Classification Report:\n",
      "               precision    recall  f1-score   support\n",
      "\n",
      "           0       0.95      0.94      0.95     11612\n",
      "           1       0.89      0.91      0.90      6118\n",
      "\n",
      "    accuracy                           0.93     17730\n",
      "   macro avg       0.92      0.93      0.93     17730\n",
      "weighted avg       0.93      0.93      0.93     17730\n",
      "\n"
     ]
    }
   ],
   "source": [
    "# Créer un modèle de régression logistique\n",
    "model = LogisticRegression(max_iter=1000, random_state=42)\n",
    "\n",
    "\n",
    "# Entraîner le modèle sur l'ensemble d'entraînement\n",
    "model.fit(X_train, y_train)\n",
    "\n",
    "# Prédictions sur l’ensemble de tests\n",
    "y_pred = model.predict(X_test)\n",
    "\n",
    "# Évaluer le modèle\n",
    "accuracy = accuracy_score(y_test, y_pred)\n",
    "conf_matrix = confusion_matrix(y_test, y_pred)\n",
    "classification_rep = classification_report(y_test, y_pred)\n",
    "\n",
    "# Afficher les métriques d'évaluation\n",
    "print(\"Accuracy:\", accuracy)\n",
    "print(\"\\nConfusion Matrix:\\n\", conf_matrix)\n",
    "print(\"\\nClassification Report:\\n\", classification_rep)"
   ]
  },
  {
   "cell_type": "markdown",
   "metadata": {},
   "source": [
    "Gaussian Naive Bayes"
   ]
  },
  {
   "cell_type": "code",
   "execution_count": 8,
   "metadata": {},
   "outputs": [
    {
     "name": "stdout",
     "output_type": "stream",
     "text": [
      "Naive Bayes Model Accuracy: 0.7763113367174281\n",
      "\n",
      "Naive Bayes Model Confusion Matrix:\n",
      " [[11308   304]\n",
      " [ 3662  2456]]\n",
      "\n",
      "Naive Bayes Model Classification Report:\n",
      "               precision    recall  f1-score   support\n",
      "\n",
      "           0       0.76      0.97      0.85     11612\n",
      "           1       0.89      0.40      0.55      6118\n",
      "\n",
      "    accuracy                           0.78     17730\n",
      "   macro avg       0.82      0.69      0.70     17730\n",
      "weighted avg       0.80      0.78      0.75     17730\n",
      "\n"
     ]
    }
   ],
   "source": [
    "# Créer un modèle Bayesien naïf gaussien\n",
    "naive_bayes_model = GaussianNB()\n",
    "\n",
    "# Entraîner le modèle sur l'ensemble d'entraînement\n",
    "naive_bayes_model.fit(X_train, y_train)\n",
    "\n",
    "# Prédiction sur l'ensemble de test\n",
    "y_pred_naive_bayes = naive_bayes_model.predict(X_test)\n",
    "\n",
    "# Évaluer le modèle Naive Bayes\n",
    "accuracy_naive_bayes = accuracy_score(y_test, y_pred_naive_bayes)\n",
    "conf_matrix_naive_bayes = confusion_matrix(y_test, y_pred_naive_bayes)\n",
    "classification_rep_naive_bayes = classification_report(y_test, y_pred_naive_bayes)\n",
    "\n",
    "# Afficher les métriques d'évaluation pour le modèle Naive Bayes\n",
    "print(\"Naive Bayes Model Accuracy:\", accuracy_naive_bayes)\n",
    "print(\"\\nNaive Bayes Model Confusion Matrix:\\n\", conf_matrix_naive_bayes)\n",
    "print(\"\\nNaive Bayes Model Classification Report:\\n\", classification_rep_naive_bayes)"
   ]
  },
  {
   "cell_type": "code",
   "execution_count": 9,
   "metadata": {},
   "outputs": [],
   "source": [
    "# Fonction pour exécuter le modèle\n",
    "def run_model(model_type, X_train, X_test, y_train, y_test):\n",
    "    \"\"\"\n",
    "    Run the specified model and return the model and evaluation metrics.\n",
    "\n",
    "    Parameters:\n",
    "    - model_type: A string indicating the type of model ('LR', 'DT', 'NB', 'SVM', 'RF').\n",
    "    - X_train, X_test, y_train, y_test: Training and testing sets.\n",
    "\n",
    "    Returns:\n",
    "    - model: Trained model.\n",
    "    - metrics: Dictionary containing evaluation metrics.\n",
    "    \"\"\"\n",
    "   # Conditions d'exécution d'un modèle individuel en passant des arguments \n",
    "    if model_type == 'LR':\n",
    "        model = LogisticRegression(random_state=42, max_iter=1000)\n",
    "    elif model_type == 'DT':\n",
    "        model = DecisionTreeClassifier(random_state=42)\n",
    "    elif model_type == 'NB':\n",
    "        model = GaussianNB()\n",
    "    elif model_type == 'SVM':\n",
    "        model = SVC(random_state=42)\n",
    "    elif model_type == 'RF':\n",
    "        model = RandomForestClassifier(random_state=42)\n",
    "    else:\n",
    "        raise ValueError(\"Invalid model_type. Choose from 'LR', 'DT', 'NB', 'SVM', 'RF'.\")\n",
    "\n",
    "    # Train model\n",
    "    model.fit(X_train, y_train)\n",
    "\n",
    "    # Prédiction sur l'ensemble de tests\n",
    "    y_pred = model.predict(X_test)\n",
    "\n",
    "    # Évaluer le modèle\n",
    "    accuracy = accuracy_score(y_test, y_pred)\n",
    "    precision, recall, f1_score, _ = precision_recall_fscore_support(y_test, y_pred, average='binary')\n",
    "    conf_matrix = confusion_matrix(y_test, y_pred)\n",
    "    classification_rep = classification_report(y_test, y_pred)\n",
    "\n",
    "    # Afficher les métriques d'évaluation\n",
    "    print(f\"\\n{model_type} Model Accuracy:\", accuracy)\n",
    "    print(f\"\\n{model_type} Model Confusion Matrix:\\n\", conf_matrix)\n",
    "    print(f\"\\n{model_type} Model Classification Report:\\n\", classification_rep)\n",
    "\n",
    "    # Stocker les métriques dans un dictionnaire\n",
    "    metrics = {\n",
    "        'Accuracy': accuracy,\n",
    "        'Precision': precision,\n",
    "        'Recall': recall,\n",
    "        'F1-Score': f1_score\n",
    "    }\n",
    "    \n",
    "    return model, metrics"
   ]
  },
  {
   "cell_type": "code",
   "execution_count": 10,
   "metadata": {},
   "outputs": [],
   "source": [
    "# Définir un dictionnaire pour stocker les noms de modèles et leurs métriques correspondantes\n",
    "model_metrics = {}"
   ]
  },
  {
   "cell_type": "code",
   "execution_count": 11,
   "metadata": {},
   "outputs": [
    {
     "name": "stdout",
     "output_type": "stream",
     "text": [
      "\n",
      "LR Model Accuracy: 0.9327693175408911\n",
      "\n",
      "LR Model Confusion Matrix:\n",
      " [[10946   666]\n",
      " [  526  5592]]\n",
      "\n",
      "LR Model Classification Report:\n",
      "               precision    recall  f1-score   support\n",
      "\n",
      "           0       0.95      0.94      0.95     11612\n",
      "           1       0.89      0.91      0.90      6118\n",
      "\n",
      "    accuracy                           0.93     17730\n",
      "   macro avg       0.92      0.93      0.93     17730\n",
      "weighted avg       0.93      0.93      0.93     17730\n",
      "\n"
     ]
    }
   ],
   "source": [
    "# Exécuter une régression logistique\n",
    "lr_model, lr_metrics = run_model('LR', X_train, X_test, y_train, y_test)\n",
    "model_metrics['Logistic Regression'] = lr_metrics"
   ]
  },
  {
   "cell_type": "code",
   "execution_count": 12,
   "metadata": {},
   "outputs": [
    {
     "name": "stdout",
     "output_type": "stream",
     "text": [
      "\n",
      "DT Model Accuracy: 0.9539763113367175\n",
      "\n",
      "DT Model Confusion Matrix:\n",
      " [[11180   432]\n",
      " [  384  5734]]\n",
      "\n",
      "DT Model Classification Report:\n",
      "               precision    recall  f1-score   support\n",
      "\n",
      "           0       0.97      0.96      0.96     11612\n",
      "           1       0.93      0.94      0.93      6118\n",
      "\n",
      "    accuracy                           0.95     17730\n",
      "   macro avg       0.95      0.95      0.95     17730\n",
      "weighted avg       0.95      0.95      0.95     17730\n",
      "\n"
     ]
    }
   ],
   "source": [
    "# Exécuter l'arbre de décision\n",
    "dt_model, dt_metrics = run_model('DT', X_train, X_test, y_train, y_test)\n",
    "model_metrics['Decision Tree'] = dt_metrics"
   ]
  },
  {
   "cell_type": "code",
   "execution_count": 13,
   "metadata": {},
   "outputs": [
    {
     "name": "stdout",
     "output_type": "stream",
     "text": [
      "\n",
      "NB Model Accuracy: 0.7763113367174281\n",
      "\n",
      "NB Model Confusion Matrix:\n",
      " [[11308   304]\n",
      " [ 3662  2456]]\n",
      "\n",
      "NB Model Classification Report:\n",
      "               precision    recall  f1-score   support\n",
      "\n",
      "           0       0.76      0.97      0.85     11612\n",
      "           1       0.89      0.40      0.55      6118\n",
      "\n",
      "    accuracy                           0.78     17730\n",
      "   macro avg       0.82      0.69      0.70     17730\n",
      "weighted avg       0.80      0.78      0.75     17730\n",
      "\n"
     ]
    }
   ],
   "source": [
    "# Exécuter Naive Bayes\n",
    "nb_model, nb_metrics = run_model('NB', X_train, X_test, y_train, y_test)\n",
    "model_metrics['Naive Bayes'] = nb_metrics"
   ]
  },
  {
   "cell_type": "code",
   "execution_count": 14,
   "metadata": {},
   "outputs": [
    {
     "name": "stdout",
     "output_type": "stream",
     "text": [
      "\n",
      "SVM Model Accuracy: 0.943824027072758\n",
      "\n",
      "SVM Model Confusion Matrix:\n",
      " [[11054   558]\n",
      " [  438  5680]]\n",
      "\n",
      "SVM Model Classification Report:\n",
      "               precision    recall  f1-score   support\n",
      "\n",
      "           0       0.96      0.95      0.96     11612\n",
      "           1       0.91      0.93      0.92      6118\n",
      "\n",
      "    accuracy                           0.94     17730\n",
      "   macro avg       0.94      0.94      0.94     17730\n",
      "weighted avg       0.94      0.94      0.94     17730\n",
      "\n"
     ]
    }
   ],
   "source": [
    "# Exécuter SVM\n",
    "svm_model, svm_metrics = run_model('SVM', X_train, X_test, y_train, y_test)\n",
    "model_metrics['SVM'] = svm_metrics"
   ]
  },
  {
   "cell_type": "code",
   "execution_count": 15,
   "metadata": {},
   "outputs": [
    {
     "name": "stdout",
     "output_type": "stream",
     "text": [
      "\n",
      "RF Model Accuracy: 0.9694867456288776\n",
      "\n",
      "RF Model Confusion Matrix:\n",
      " [[11311   301]\n",
      " [  240  5878]]\n",
      "\n",
      "RF Model Classification Report:\n",
      "               precision    recall  f1-score   support\n",
      "\n",
      "           0       0.98      0.97      0.98     11612\n",
      "           1       0.95      0.96      0.96      6118\n",
      "\n",
      "    accuracy                           0.97     17730\n",
      "   macro avg       0.97      0.97      0.97     17730\n",
      "weighted avg       0.97      0.97      0.97     17730\n",
      "\n"
     ]
    }
   ],
   "source": [
    "# Exécuter une forêt aléatoire\n",
    "rf_model, rf_metrics = run_model('RF', X_train, X_test, y_train, y_test)\n",
    "model_metrics['Random Forest'] = rf_metrics"
   ]
  },
  {
   "cell_type": "markdown",
   "metadata": {},
   "source": [
    "Run all models at once and collect metrics"
   ]
  },
  {
   "cell_type": "code",
   "execution_count": 16,
   "metadata": {},
   "outputs": [],
   "source": [
    "# Exécuter tous les modèles et collecter des métriques\n",
    "# for model_type in ['LR', 'DT', 'NB', 'SVM', 'RF']:\n",
    "#     _, metrics = run_model(model_type, X_train, X_test, y_train, y_test)\n",
    "#     model_metrics[model_type] = metrics"
   ]
  },
  {
   "cell_type": "markdown",
   "metadata": {},
   "source": [
    "Comparaison des modèles"
   ]
  },
  {
   "cell_type": "code",
   "execution_count": 17,
   "metadata": {},
   "outputs": [
    {
     "data": {
      "image/png": "[encoded data removed]",
      "text/plain": [
       "<Figure size 1200x700 with 1 Axes>"
      ]
     },
     "metadata": {},
     "output_type": "display_data"
    }
   ],
   "source": [
    "# Collecter les valeurs de précision pour chaque modèle\n",
    "accuracies = {\n",
    "    'Logistic Regression': lr_metrics['Accuracy'],\n",
    "    'Decision Tree': dt_metrics['Accuracy'],\n",
    "    'Naive Bayes': nb_metrics['Accuracy'],\n",
    "    'SVM': svm_metrics['Accuracy'],\n",
    "    'Random Forest': rf_metrics['Accuracy']\n",
    "}\n",
    "\n",
    "# Créer un diagramme à barres pour comparer les modèles\n",
    "plt.figure(figsize=(12, 7))\n",
    "sns.barplot(x=list(accuracies.keys()), y=list(accuracies.values()))\n",
    "plt.title('Model Comparison - Accuracy')\n",
    "plt.ylabel('Accuracy')\n",
    "plt.show()"
   ]
  },
  {
   "cell_type": "code",
   "execution_count": 18,
   "metadata": {},
   "outputs": [
    {
     "data": {
      "text/plain": [
       "{'Logistic Regression': {'Accuracy': 0.9327693175408911,\n",
       "  'Precision': 0.8935762224352828,\n",
       "  'Recall': 0.9140241909120628,\n",
       "  'F1-Score': 0.9036845507433742},\n",
       " 'Decision Tree': {'Accuracy': 0.9539763113367175,\n",
       "  'Precision': 0.9299383717158611,\n",
       "  'Recall': 0.9372343903236352,\n",
       "  'F1-Score': 0.9335721263432106},\n",
       " 'Naive Bayes': {'Accuracy': 0.7763113367174281,\n",
       "  'Precision': 0.8898550724637682,\n",
       "  'Recall': 0.40143837855508335,\n",
       "  'F1-Score': 0.5532777652624464},\n",
       " 'SVM': {'Accuracy': 0.943824027072758,\n",
       "  'Precision': 0.9105482526450785,\n",
       "  'Recall': 0.9284079764628964,\n",
       "  'F1-Score': 0.9193913887989642},\n",
       " 'Random Forest': {'Accuracy': 0.9694867456288776,\n",
       "  'Precision': 0.9512866159572746,\n",
       "  'Recall': 0.960771493952272,\n",
       "  'F1-Score': 0.9560055298040172}}"
      ]
     },
     "execution_count": 18,
     "metadata": {},
     "output_type": "execute_result"
    }
   ],
   "source": [
    "model_metrics"
   ]
  },
  {
   "cell_type": "code",
   "execution_count": 19,
   "metadata": {},
   "outputs": [],
   "source": [
    "def plot_metrics(model_metrics, metric_name, title):\n",
    "    \"\"\"\n",
    "    Graphiques à barres pour une métrique spécifique sur différents modèles.\n",
    "\n",
    "    Parameters:\n",
    "    - model_metrics: A dictionary containing model names and their metrics.\n",
    "    - metric_name: The name of the metric to plot (e.g., 'Accuracy', 'Precision', 'Recall', 'F1-Score').\n",
    "    - title: The title of the plot.\n",
    "    \"\"\"\n",
    "    plt.figure(figsize=(12, 7))\n",
    "\n",
    "    model_names = list(model_metrics.keys())\n",
    "    metric_values = [metrics[metric_name] for metrics in model_metrics.values()]\n",
    "\n",
    "    sns.barplot(x=model_names, y=metric_values)\n",
    "    plt.title(title)\n",
    "    plt.ylabel(metric_name)\n",
    "    plt.show()"
   ]
  },
  {
   "cell_type": "code",
   "execution_count": 20,
   "metadata": {},
   "outputs": [
    {
     "data": {
      "image/png": "[encoded data removed]",
      "text/plain": [
       "<Figure size 1200x700 with 1 Axes>"
      ]
     },
     "metadata": {},
     "output_type": "display_data"
    }
   ],
   "source": [
    "# Comparaison de l'accuracy\n",
    "plot_metrics(model_metrics, 'Accuracy', 'Model Comparison - Accuracy')"
   ]
  },
  {
   "cell_type": "code",
   "execution_count": 21,
   "metadata": {},
   "outputs": [
    {
     "data": {
      "image/png": "[encoded data removed]",
      "text/plain": [
       "<Figure size 1200x700 with 1 Axes>"
      ]
     },
     "metadata": {},
     "output_type": "display_data"
    }
   ],
   "source": [
    "#Comparaison de la précision\n",
    "plot_metrics(model_metrics, 'Precision', 'Model Comparison - Precision')"
   ]
  },
  {
   "cell_type": "code",
   "execution_count": 22,
   "metadata": {},
   "outputs": [
    {
     "data": {
      "image/png": "[encoded data removed]",
      "text/plain": [
       "<Figure size 1200x700 with 1 Axes>"
      ]
     },
     "metadata": {},
     "output_type": "display_data"
    }
   ],
   "source": [
    "# Comparaison de recall\n",
    "plot_metrics(model_metrics, 'Recall', 'Model Comparison - Recall')"
   ]
  },
  {
   "cell_type": "code",
   "execution_count": 23,
   "metadata": {},
   "outputs": [
    {
     "data": {
      "image/png": "[encoded data removed]",
      "text/plain": [
       "<Figure size 1200x700 with 1 Axes>"
      ]
     },
     "metadata": {},
     "output_type": "display_data"
    }
   ],
   "source": [
    "# Comparaison de F1-score\n",
    "plot_metrics(model_metrics, 'F1-Score', 'Model Comparison - F1-Score')"
   ]
  },
  {
   "cell_type": "markdown",
   "metadata": {},
   "source": [
    "Réglage des hyperparamètres: Hyperparameter Tuning"
   ]
  },
  {
   "cell_type": "code",
   "execution_count": 24,
   "metadata": {},
   "outputs": [],
   "source": [
    "def tune_and_run_model(model_type, X_train, X_test, y_train, y_test, param_grid):\n",
    "    \"\"\"\n",
    "    Perform hyperparameter tuning for the specified model and return the tuned model and evaluation metrics.\n",
    "\n",
    "    Parameters:\n",
    "    - model_type: A string indicating the type of model ('LR', 'DT', 'NB', 'SVM', 'RF').\n",
    "    - X_train, X_test, y_train, y_test: Training and testing sets.\n",
    "    - param_grid: Dictionary specifying the hyperparameter grid for GridSearchCV.\n",
    "\n",
    "    Returns:\n",
    "    - tuned_model: Tuned model.\n",
    "    - metrics: Dictionary containing evaluation metrics.\n",
    "    \"\"\"\n",
    "    if model_type == 'LR':\n",
    "        base_model = LogisticRegression(random_state=42)\n",
    "    elif model_type == 'DT':\n",
    "        base_model = DecisionTreeClassifier(random_state=42)\n",
    "    elif model_type == 'NB':\n",
    "        base_model = GaussianNB()\n",
    "    elif model_type == 'SVM':\n",
    "        base_model = SVC(random_state=42)\n",
    "    elif model_type == 'RF':\n",
    "        base_model = RandomForestClassifier(random_state=42)\n",
    "    else:\n",
    "        base_model = model_type\n",
    "\n",
    "    # Effectuer le réglage des hyperparamètres à l'aide de GridSearchCV\n",
    "    grid_search = GridSearchCV(base_model, param_grid, scoring='accuracy', cv=5)\n",
    "    grid_search.fit(X_train, y_train)\n",
    "\n",
    "    # Obtenir le meilleur modèle et ses paramètres\n",
    "    tuned_model = grid_search.best_estimator_\n",
    "\n",
    "    # Prédiction sur l’ensemble de tests\n",
    "    y_pred = tuned_model.predict(X_test)\n",
    "\n",
    "    # Évaluer le modèle optimisé\n",
    "    accuracy = accuracy_score(y_test, y_pred)\n",
    "    conf_matrix = confusion_matrix(y_test, y_pred)\n",
    "    classification_rep = classification_report(y_test, y_pred)\n",
    "\n",
    "    # Afficher les métriques d'évaluation\n",
    "    print(f\"\\nTuned Model Accuracy:\", accuracy)\n",
    "    print(f\"\\nTuned Model Confusion Matrix:\\n\", conf_matrix)\n",
    "    print(f\"\\nTuned Model Classification Report:\\n\", classification_rep)\n",
    "\n",
    "    # Stocker les métriques dans un dictionnaire\n",
    "    metrics = {\n",
    "        'Accuracy': accuracy,\n",
    "        'Confusion Matrix': conf_matrix,\n",
    "        'Classification Report': classification_rep\n",
    "    }\n",
    "\n",
    "    return tuned_model, metrics, y_pred"
   ]
  },
  {
   "cell_type": "markdown",
   "metadata": {},
   "source": [
    "# Exercise:\n",
    "\n",
    "1) Calculer et afficher la précision pour tous les modèles\n",
    "2) Calculer et afficher le Recall pour tous les modèles\n",
    "3) Calculer et afficher le score F1 pour tous les modèles\n",
    "4) Dans un tableau de données(dataframe): afficher l'ensemble des métriques pour les modèles testés \n",
    "\n",
    "Dataframe Colonnes  -> Model name, Accuracy, Recall, F1-Score\n",
    "\n",
    "https://scikit-learn.org/stable/modules/model_evaluation.html\n",
    "\n",
    "5) Appliquer d'autres algorithmes d'apprentissage automatique et comparer les performances\n",
    "\n",
    "https://scikit-learn.org/stable/supervised_learning.html\n",
    "\n",
    "6) Appliquer grid search pour améliorer la performance des modèles\n",
    "\n",
    "7) Dans un tableau de données(dataframe): Afficher les résultats de performance du modèles après l'utilisation du grid search\n",
    "\n",
    "8) Rechercher d'autres moyens d'améliorer les performances\n",
    "\n",
    "9) Analyser et partager les résultats globaux\n",
    "\n",
    "\n"
   ]
  },
  {
   "cell_type": "code",
   "execution_count": 25,
   "metadata": {},
   "outputs": [],
   "source": [
    "def save_metrics(model_name, y_pred):\n",
    "    \"\"\"\n",
    "    Save the evaluation metrics for a model into model_metrics.\n",
    "\n",
    "    Parameters:\n",
    "    - model_name: The name of the model.\n",
    "    - y_pred: Predictions on the test set.\n",
    "    \"\"\"\n",
    "\n",
    "    # Pour obtenir les scores moyens sur toutes les classes, vous pouvez utiliser 'average='weighted''\n",
    "    precision, recall, f1_score, _ = precision_recall_fscore_support(y_test, y_pred, average='binary')\n",
    "\n",
    "    model_metrics[model_name] = {\n",
    "        'Precision': precision,\n",
    "        'Recall': recall,\n",
    "        'F1-Score': f1_score\n",
    "    }"
   ]
  },
  {
   "cell_type": "code",
   "execution_count": 26,
   "metadata": {},
   "outputs": [
    {
     "name": "stderr",
     "output_type": "stream",
     "text": [
      "/Users/charles-albert/Desktop/Cybersecurity_course/cybervenv/lib/python3.12/site-packages/sklearn/svm/_base.py:1250: ConvergenceWarning: Liblinear failed to converge, increase the number of iterations.\n",
      "  warnings.warn(\n",
      "/Users/charles-albert/Desktop/Cybersecurity_course/cybervenv/lib/python3.12/site-packages/sklearn/linear_model/_sag.py:350: ConvergenceWarning: The max_iter was reached which means the coef_ did not converge\n",
      "  warnings.warn(\n",
      "/Users/charles-albert/Desktop/Cybersecurity_course/cybervenv/lib/python3.12/site-packages/sklearn/linear_model/_sag.py:350: ConvergenceWarning: The max_iter was reached which means the coef_ did not converge\n",
      "  warnings.warn(\n",
      "/Users/charles-albert/Desktop/Cybersecurity_course/cybervenv/lib/python3.12/site-packages/sklearn/linear_model/_sag.py:350: ConvergenceWarning: The max_iter was reached which means the coef_ did not converge\n",
      "  warnings.warn(\n",
      "/Users/charles-albert/Desktop/Cybersecurity_course/cybervenv/lib/python3.12/site-packages/sklearn/linear_model/_sag.py:350: ConvergenceWarning: The max_iter was reached which means the coef_ did not converge\n",
      "  warnings.warn(\n",
      "/Users/charles-albert/Desktop/Cybersecurity_course/cybervenv/lib/python3.12/site-packages/sklearn/linear_model/_sag.py:350: ConvergenceWarning: The max_iter was reached which means the coef_ did not converge\n",
      "  warnings.warn(\n",
      "/Users/charles-albert/Desktop/Cybersecurity_course/cybervenv/lib/python3.12/site-packages/sklearn/linear_model/_sag.py:350: ConvergenceWarning: The max_iter was reached which means the coef_ did not converge\n",
      "  warnings.warn(\n",
      "/Users/charles-albert/Desktop/Cybersecurity_course/cybervenv/lib/python3.12/site-packages/sklearn/linear_model/_sag.py:350: ConvergenceWarning: The max_iter was reached which means the coef_ did not converge\n",
      "  warnings.warn(\n",
      "/Users/charles-albert/Desktop/Cybersecurity_course/cybervenv/lib/python3.12/site-packages/sklearn/linear_model/_sag.py:350: ConvergenceWarning: The max_iter was reached which means the coef_ did not converge\n",
      "  warnings.warn(\n",
      "/Users/charles-albert/Desktop/Cybersecurity_course/cybervenv/lib/python3.12/site-packages/sklearn/linear_model/_sag.py:350: ConvergenceWarning: The max_iter was reached which means the coef_ did not converge\n",
      "  warnings.warn(\n",
      "/Users/charles-albert/Desktop/Cybersecurity_course/cybervenv/lib/python3.12/site-packages/sklearn/linear_model/_sag.py:350: ConvergenceWarning: The max_iter was reached which means the coef_ did not converge\n",
      "  warnings.warn(\n"
     ]
    },
    {
     "name": "stdout",
     "output_type": "stream",
     "text": [
      "\n",
      "Tuned Model Accuracy: 0.9327693175408911\n",
      "\n",
      "Tuned Model Confusion Matrix:\n",
      " [[10946   666]\n",
      " [  526  5592]]\n",
      "\n",
      "Tuned Model Classification Report:\n",
      "               precision    recall  f1-score   support\n",
      "\n",
      "           0       0.95      0.94      0.95     11612\n",
      "           1       0.89      0.91      0.90      6118\n",
      "\n",
      "    accuracy                           0.93     17730\n",
      "   macro avg       0.92      0.93      0.93     17730\n",
      "weighted avg       0.93      0.93      0.93     17730\n",
      "\n"
     ]
    }
   ],
   "source": [
    "\n",
    "# # Exemple d'hyperparamètres pour la régression logistique\n",
    "param_grid_lr = {\n",
    "     'penalty': ['l1', 'l2'],\n",
    "#     'C': [0.001, 0.01, 0.1, 1, 10, 100],\n",
    "     'solver': ['liblinear', 'saga'],\n",
    "#     'max_iter': [1000, 3000, 6000]\n",
    "}\n",
    "\n",
    "# # Exécuter le réglage des hyperparamètres pour la régression logistique\n",
    "lr_tuned_model, lr_tuned_metrics, y_pred = tune_and_run_model('LR', X_train, X_test, y_train, y_test, param_grid_lr)\n",
    "\n",
    "save_metrics('Logistic Regression (Tuned)', y_pred)"
   ]
  },
  {
   "cell_type": "code",
   "execution_count": 27,
   "metadata": {},
   "outputs": [
    {
     "name": "stdout",
     "output_type": "stream",
     "text": [
      "\n",
      "Tuned Model Accuracy: 0.9540891144952058\n",
      "\n",
      "Tuned Model Confusion Matrix:\n",
      " [[11233   379]\n",
      " [  435  5683]]\n",
      "\n",
      "Tuned Model Classification Report:\n",
      "               precision    recall  f1-score   support\n",
      "\n",
      "           0       0.96      0.97      0.97     11612\n",
      "           1       0.94      0.93      0.93      6118\n",
      "\n",
      "    accuracy                           0.95     17730\n",
      "   macro avg       0.95      0.95      0.95     17730\n",
      "weighted avg       0.95      0.95      0.95     17730\n",
      "\n"
     ]
    }
   ],
   "source": [
    "# Exemple d'hyperparamètres pour l'arbre de décision\n",
    "param_grid_dt = {\n",
    "    'criterion': ['gini', 'entropy'],\n",
    "    'splitter': ['best', 'random'],\n",
    "#     'max_depth': [None, 10, 20, 30, 40, 50],\n",
    "    'min_samples_split': [2, 5, 10],\n",
    "    'min_samples_leaf': [1, 2, 4]\n",
    "}\n",
    "\n",
    "# Run hyperparameter tuning for Decision Tree\n",
    "dt_tuned_model, dt_tuned_metrics, y_pred = tune_and_run_model('DT', X_train, X_test, y_train, y_test, param_grid_dt)\n",
    "\n",
    "save_metrics('Decision Tree (Tuned)', y_pred)\n"
   ]
  },
  {
   "cell_type": "code",
   "execution_count": 28,
   "metadata": {},
   "outputs": [
    {
     "name": "stdout",
     "output_type": "stream",
     "text": [
      "\n",
      "Tuned Model Accuracy: 0.9700507614213199\n",
      "\n",
      "Tuned Model Confusion Matrix:\n",
      " [[11310   302]\n",
      " [  229  5889]]\n",
      "\n",
      "Tuned Model Classification Report:\n",
      "               precision    recall  f1-score   support\n",
      "\n",
      "           0       0.98      0.97      0.98     11612\n",
      "           1       0.95      0.96      0.96      6118\n",
      "\n",
      "    accuracy                           0.97     17730\n",
      "   macro avg       0.97      0.97      0.97     17730\n",
      "weighted avg       0.97      0.97      0.97     17730\n",
      "\n"
     ]
    }
   ],
   "source": [
    "# Exemple d'hyperparamètres pour Random Forest\n",
    "param_grid_rf = {\n",
    "    'n_estimators': [50, 100, 200],\n",
    "#     'criterion': ['gini', 'entropy'],\n",
    "    'max_depth': [None, 10, 20, 30, 40, 50],\n",
    "#     'min_samples_split': [2, 5, 10],\n",
    "    'min_samples_leaf': [1, 2, 4],\n",
    "#     'bootstrap': [True, False]\n",
    "}\n",
    "\n",
    "# Exécuter des hyperparamètres pour l'arbre de décision\n",
    "rf_tuned_model, rf_tuned_metrics, y_pred = tune_and_run_model('RF', X_train, X_test, y_train, y_test, param_grid_rf)\n",
    "\n",
    "save_metrics('Random Forest (Tuned)', y_pred)"
   ]
  },
  {
   "cell_type": "code",
   "execution_count": 29,
   "metadata": {},
   "outputs": [
    {
     "name": "stdout",
     "output_type": "stream",
     "text": [
      "\n",
      "Tuned Model Accuracy: 0.9532430908065426\n",
      "\n",
      "Tuned Model Confusion Matrix:\n",
      " [[11197   415]\n",
      " [  414  5704]]\n",
      "\n",
      "Tuned Model Classification Report:\n",
      "               precision    recall  f1-score   support\n",
      "\n",
      "           0       0.96      0.96      0.96     11612\n",
      "           1       0.93      0.93      0.93      6118\n",
      "\n",
      "    accuracy                           0.95     17730\n",
      "   macro avg       0.95      0.95      0.95     17730\n",
      "weighted avg       0.95      0.95      0.95     17730\n",
      "\n"
     ]
    }
   ],
   "source": [
    "# Exemple d'hyperparamètres pour SVM\n",
    "param_grid_svm = {\n",
    "    'C': [1, 10],\n",
    "#     'kernel': ['linear', 'poly', 'rbf', 'sigmoid'],\n",
    "    'degree': [2, 3],\n",
    "#    'gamma': ['scale', 'auto', 0.1, 1]\n",
    "}\n",
    "\n",
    "# Exécuter le réglage des hyperparamètres pour SVM\n",
    "svm_tuned_model, svm_tuned_metrics, y_pred = tune_and_run_model('SVM', X_train, X_test, y_train, y_test, param_grid_svm)\n",
    "\n",
    "save_metrics('SVM (Tuned)', y_pred)"
   ]
  },
  {
   "cell_type": "code",
   "execution_count": 30,
   "metadata": {},
   "outputs": [
    {
     "data": {
      "text/html": [
       "<div>\n",
       "<style scoped>\n",
       "    .dataframe tbody tr th:only-of-type {\n",
       "        vertical-align: middle;\n",
       "    }\n",
       "\n",
       "    .dataframe tbody tr th {\n",
       "        vertical-align: top;\n",
       "    }\n",
       "\n",
       "    .dataframe thead th {\n",
       "        text-align: right;\n",
       "    }\n",
       "</style>\n",
       "<table border=\"1\" class=\"dataframe\">\n",
       "  <thead>\n",
       "    <tr style=\"text-align: right;\">\n",
       "      <th></th>\n",
       "      <th>Accuracy</th>\n",
       "      <th>Precision</th>\n",
       "      <th>Recall</th>\n",
       "      <th>F1-Score</th>\n",
       "    </tr>\n",
       "  </thead>\n",
       "  <tbody>\n",
       "    <tr>\n",
       "      <th>Logistic Regression</th>\n",
       "      <td>0.932769</td>\n",
       "      <td>0.893576</td>\n",
       "      <td>0.914024</td>\n",
       "      <td>0.903685</td>\n",
       "    </tr>\n",
       "    <tr>\n",
       "      <th>Decision Tree</th>\n",
       "      <td>0.953976</td>\n",
       "      <td>0.929938</td>\n",
       "      <td>0.937234</td>\n",
       "      <td>0.933572</td>\n",
       "    </tr>\n",
       "    <tr>\n",
       "      <th>Naive Bayes</th>\n",
       "      <td>0.776311</td>\n",
       "      <td>0.889855</td>\n",
       "      <td>0.401438</td>\n",
       "      <td>0.553278</td>\n",
       "    </tr>\n",
       "    <tr>\n",
       "      <th>SVM</th>\n",
       "      <td>0.943824</td>\n",
       "      <td>0.910548</td>\n",
       "      <td>0.928408</td>\n",
       "      <td>0.919391</td>\n",
       "    </tr>\n",
       "    <tr>\n",
       "      <th>Random Forest</th>\n",
       "      <td>0.969487</td>\n",
       "      <td>0.951287</td>\n",
       "      <td>0.960771</td>\n",
       "      <td>0.956006</td>\n",
       "    </tr>\n",
       "    <tr>\n",
       "      <th>Logistic Regression (Tuned)</th>\n",
       "      <td>NaN</td>\n",
       "      <td>0.893576</td>\n",
       "      <td>0.914024</td>\n",
       "      <td>0.903685</td>\n",
       "    </tr>\n",
       "    <tr>\n",
       "      <th>Decision Tree (Tuned)</th>\n",
       "      <td>NaN</td>\n",
       "      <td>0.937479</td>\n",
       "      <td>0.928898</td>\n",
       "      <td>0.933169</td>\n",
       "    </tr>\n",
       "    <tr>\n",
       "      <th>Random Forest (Tuned)</th>\n",
       "      <td>NaN</td>\n",
       "      <td>0.951220</td>\n",
       "      <td>0.962569</td>\n",
       "      <td>0.956861</td>\n",
       "    </tr>\n",
       "    <tr>\n",
       "      <th>SVM (Tuned)</th>\n",
       "      <td>NaN</td>\n",
       "      <td>0.932178</td>\n",
       "      <td>0.932331</td>\n",
       "      <td>0.932255</td>\n",
       "    </tr>\n",
       "  </tbody>\n",
       "</table>\n",
       "</div>"
      ],
      "text/plain": [
       "                             Accuracy  Precision    Recall  F1-Score\n",
       "Logistic Regression          0.932769   0.893576  0.914024  0.903685\n",
       "Decision Tree                0.953976   0.929938  0.937234  0.933572\n",
       "Naive Bayes                  0.776311   0.889855  0.401438  0.553278\n",
       "SVM                          0.943824   0.910548  0.928408  0.919391\n",
       "Random Forest                0.969487   0.951287  0.960771  0.956006\n",
       "Logistic Regression (Tuned)       NaN   0.893576  0.914024  0.903685\n",
       "Decision Tree (Tuned)             NaN   0.937479  0.928898  0.933169\n",
       "Random Forest (Tuned)             NaN   0.951220  0.962569  0.956861\n",
       "SVM (Tuned)                       NaN   0.932178  0.932331  0.932255"
      ]
     },
     "metadata": {},
     "output_type": "display_data"
    }
   ],
   "source": [
    "# Afficher les métriques dans un dataframe\n",
    "df_metrics = pd.DataFrame(model_metrics).T\n",
    "display(df_metrics)"
   ]
  },
  {
   "cell_type": "markdown",
   "metadata": {},
   "source": [
    "## Application d'un autre algorithme d'apprentissage automatique"
   ]
  },
  {
   "cell_type": "markdown",
   "metadata": {},
   "source": [
    "#### ExtraTreeClassifier"
   ]
  },
  {
   "cell_type": "code",
   "execution_count": 31,
   "metadata": {},
   "outputs": [],
   "source": [
    "from sklearn.ensemble import ExtraTreesClassifier\n",
    "\n",
    "ett_model = ExtraTreesClassifier(random_state=42)\n",
    "ett_model.fit(X_train, y_train)\n",
    "\n",
    "# Faire des prédictions sur l'ensemble de test\n",
    "y_pred = ett_model.predict(X_test)\n",
    "\n",
    "# Sauvegarder les métriques\n",
    "save_metrics('ExtraTreesClassifier', y_pred)"
   ]
  },
  {
   "cell_type": "markdown",
   "metadata": {},
   "source": [
    "## Optimisation du modèle"
   ]
  },
  {
   "cell_type": "markdown",
   "metadata": {},
   "source": [
    "#### ExtraTreeClassifier"
   ]
  },
  {
   "cell_type": "code",
   "execution_count": 32,
   "metadata": {},
   "outputs": [
    {
     "name": "stdout",
     "output_type": "stream",
     "text": [
      "\n",
      "Tuned Model Accuracy: 0.9686407219402143\n",
      "\n",
      "Tuned Model Confusion Matrix:\n",
      " [[11307   305]\n",
      " [  251  5867]]\n",
      "\n",
      "Tuned Model Classification Report:\n",
      "               precision    recall  f1-score   support\n",
      "\n",
      "           0       0.98      0.97      0.98     11612\n",
      "           1       0.95      0.96      0.95      6118\n",
      "\n",
      "    accuracy                           0.97     17730\n",
      "   macro avg       0.96      0.97      0.97     17730\n",
      "weighted avg       0.97      0.97      0.97     17730\n",
      "\n"
     ]
    }
   ],
   "source": [
    "# hyperparamètres pour ExtraTreesClassifier\n",
    "param_grid_ett = {\n",
    "    'n_estimators': [50, 100],\n",
    "    'criterion': ['gini', 'entropy'],\n",
    "    'max_depth': [None, 5, 10],\n",
    "    'min_samples_leaf': [1, 2],\n",
    "    'class_weight': [None, 'balanced', 'balanced_subsample'],\n",
    "}\n",
    "\n",
    "# Exécuter le réglage des hyperparamètres pour ETT\n",
    "ett_tuned_model, ett_tuned_metrics, y_pred = tune_and_run_model(ett_model, X_train, X_test, y_train, y_test, param_grid_ett)\n",
    "\n",
    "save_metrics('ETT (Tuned)', y_pred)"
   ]
  },
  {
   "cell_type": "code",
   "execution_count": 33,
   "metadata": {},
   "outputs": [
    {
     "data": {
      "text/html": [
       "<div>\n",
       "<style scoped>\n",
       "    .dataframe tbody tr th:only-of-type {\n",
       "        vertical-align: middle;\n",
       "    }\n",
       "\n",
       "    .dataframe tbody tr th {\n",
       "        vertical-align: top;\n",
       "    }\n",
       "\n",
       "    .dataframe thead th {\n",
       "        text-align: right;\n",
       "    }\n",
       "</style>\n",
       "<table border=\"1\" class=\"dataframe\">\n",
       "  <thead>\n",
       "    <tr style=\"text-align: right;\">\n",
       "      <th></th>\n",
       "      <th>F1-Score</th>\n",
       "      <th>Precision</th>\n",
       "      <th>Recall</th>\n",
       "    </tr>\n",
       "  </thead>\n",
       "  <tbody>\n",
       "    <tr>\n",
       "      <th>ETT (Tuned)</th>\n",
       "      <td>0.95476</td>\n",
       "      <td>0.950583</td>\n",
       "      <td>0.958974</td>\n",
       "    </tr>\n",
       "  </tbody>\n",
       "</table>\n",
       "</div>"
      ],
      "text/plain": [
       "             F1-Score  Precision    Recall\n",
       "ETT (Tuned)   0.95476   0.950583  0.958974"
      ]
     },
     "metadata": {},
     "output_type": "display_data"
    }
   ],
   "source": [
    "tuned_model_metrics = {}\n",
    "tuned_model_metrics['ETT (Tuned)'] = model_metrics['ETT (Tuned)']\n",
    "\n",
    "# Afficher les métriques dans un dataframe\n",
    "df_tuned_metrics = pd.DataFrame(tuned_model_metrics).T\n",
    "display(df_tuned_metrics)"
   ]
  },
  {
   "cell_type": "markdown",
   "metadata": {},
   "source": [
    "## Autre Moyen d'améliorer les performances"
   ]
  },
  {
   "cell_type": "markdown",
   "metadata": {},
   "source": [
    "### RandomSearch CV"
   ]
  },
  {
   "cell_type": "code",
   "execution_count": 36,
   "metadata": {},
   "outputs": [
    {
     "name": "stdout",
     "output_type": "stream",
     "text": [
      "Accuracy: 0.9327693175408911\n"
     ]
    }
   ],
   "source": [
    "# Exemple pour ExtraTreesClassifier\n",
    "from sklearn.model_selection import RandomizedSearchCV\n",
    "\n",
    "randomSearch_params = {\n",
    "    'n_estimators': [50, 100, 200, 300, 500],\n",
    "    'criterion': ['gini', 'entropy'],\n",
    "    'max_depth': [None, 5, 10, 15, 20, 30, 50, 100],\n",
    "    'min_samples_split': [2, 5, 10, 15, 20],\n",
    "    'min_samples_leaf': [1, 2, 5, 10, 15],\n",
    "    'max_features': [None, 'sqrt', 'log2'],\n",
    "    'class_weight': [None, 'balanced', 'balanced_subsample']\n",
    "}\n",
    "\n",
    "# Créer l'objet RandomizedSearchCV\n",
    "random_search = RandomizedSearchCV(ett_model, randomSearch_params, n_iter=5, random_state=42)\n",
    "\n",
    "# Exécuter la RandomizedSearchCV\n",
    "random_search = random_search.fit(X_train, y_train)\n",
    "\n",
    "# Obtenir le meilleur modèle et ses paramètres\n",
    "ett_rstuned = random_search.best_estimator_\n",
    "\n",
    "# Prédiction sur l’ensemble de tests\n",
    "y_pred = random_search.predict(X_test)\n",
    "\n",
    "# Sauvegarder les métriques\n",
    "save_metrics('ExtraTreesClassifier (RS_Tuned)', y_pred)\n",
    "\n",
    "print(\"Accuracy:\", accuracy)"
   ]
  },
  {
   "cell_type": "markdown",
   "metadata": {},
   "source": [
    "## Analyse des résultats"
   ]
  },
  {
   "cell_type": "code",
   "execution_count": 35,
   "metadata": {},
   "outputs": [
    {
     "data": {
      "text/html": [
       "<div>\n",
       "<style scoped>\n",
       "    .dataframe tbody tr th:only-of-type {\n",
       "        vertical-align: middle;\n",
       "    }\n",
       "\n",
       "    .dataframe tbody tr th {\n",
       "        vertical-align: top;\n",
       "    }\n",
       "\n",
       "    .dataframe thead th {\n",
       "        text-align: right;\n",
       "    }\n",
       "</style>\n",
       "<table border=\"1\" class=\"dataframe\">\n",
       "  <thead>\n",
       "    <tr style=\"text-align: right;\">\n",
       "      <th></th>\n",
       "      <th>Accuracy</th>\n",
       "      <th>Precision</th>\n",
       "      <th>Recall</th>\n",
       "      <th>F1-Score</th>\n",
       "    </tr>\n",
       "  </thead>\n",
       "  <tbody>\n",
       "    <tr>\n",
       "      <th>Logistic Regression</th>\n",
       "      <td>0.932769</td>\n",
       "      <td>0.893576</td>\n",
       "      <td>0.914024</td>\n",
       "      <td>0.903685</td>\n",
       "    </tr>\n",
       "    <tr>\n",
       "      <th>Decision Tree</th>\n",
       "      <td>0.953976</td>\n",
       "      <td>0.929938</td>\n",
       "      <td>0.937234</td>\n",
       "      <td>0.933572</td>\n",
       "    </tr>\n",
       "    <tr>\n",
       "      <th>Naive Bayes</th>\n",
       "      <td>0.776311</td>\n",
       "      <td>0.889855</td>\n",
       "      <td>0.401438</td>\n",
       "      <td>0.553278</td>\n",
       "    </tr>\n",
       "    <tr>\n",
       "      <th>SVM</th>\n",
       "      <td>0.943824</td>\n",
       "      <td>0.910548</td>\n",
       "      <td>0.928408</td>\n",
       "      <td>0.919391</td>\n",
       "    </tr>\n",
       "    <tr>\n",
       "      <th>Random Forest</th>\n",
       "      <td>0.969487</td>\n",
       "      <td>0.951287</td>\n",
       "      <td>0.960771</td>\n",
       "      <td>0.956006</td>\n",
       "    </tr>\n",
       "    <tr>\n",
       "      <th>Logistic Regression (Tuned)</th>\n",
       "      <td>NaN</td>\n",
       "      <td>0.893576</td>\n",
       "      <td>0.914024</td>\n",
       "      <td>0.903685</td>\n",
       "    </tr>\n",
       "    <tr>\n",
       "      <th>Decision Tree (Tuned)</th>\n",
       "      <td>NaN</td>\n",
       "      <td>0.937479</td>\n",
       "      <td>0.928898</td>\n",
       "      <td>0.933169</td>\n",
       "    </tr>\n",
       "    <tr>\n",
       "      <th>Random Forest (Tuned)</th>\n",
       "      <td>NaN</td>\n",
       "      <td>0.951220</td>\n",
       "      <td>0.962569</td>\n",
       "      <td>0.956861</td>\n",
       "    </tr>\n",
       "    <tr>\n",
       "      <th>SVM (Tuned)</th>\n",
       "      <td>NaN</td>\n",
       "      <td>0.932178</td>\n",
       "      <td>0.932331</td>\n",
       "      <td>0.932255</td>\n",
       "    </tr>\n",
       "    <tr>\n",
       "      <th>ExtraTreesClassifier</th>\n",
       "      <td>NaN</td>\n",
       "      <td>0.950583</td>\n",
       "      <td>0.958974</td>\n",
       "      <td>0.954760</td>\n",
       "    </tr>\n",
       "    <tr>\n",
       "      <th>ETT (Tuned)</th>\n",
       "      <td>NaN</td>\n",
       "      <td>0.950583</td>\n",
       "      <td>0.958974</td>\n",
       "      <td>0.954760</td>\n",
       "    </tr>\n",
       "    <tr>\n",
       "      <th>ExtraTreesClassifier (RS_Tuned)</th>\n",
       "      <td>NaN</td>\n",
       "      <td>0.911295</td>\n",
       "      <td>0.970579</td>\n",
       "      <td>0.940003</td>\n",
       "    </tr>\n",
       "  </tbody>\n",
       "</table>\n",
       "</div>"
      ],
      "text/plain": [
       "                                 Accuracy  Precision    Recall  F1-Score\n",
       "Logistic Regression              0.932769   0.893576  0.914024  0.903685\n",
       "Decision Tree                    0.953976   0.929938  0.937234  0.933572\n",
       "Naive Bayes                      0.776311   0.889855  0.401438  0.553278\n",
       "SVM                              0.943824   0.910548  0.928408  0.919391\n",
       "Random Forest                    0.969487   0.951287  0.960771  0.956006\n",
       "Logistic Regression (Tuned)           NaN   0.893576  0.914024  0.903685\n",
       "Decision Tree (Tuned)                 NaN   0.937479  0.928898  0.933169\n",
       "Random Forest (Tuned)                 NaN   0.951220  0.962569  0.956861\n",
       "SVM (Tuned)                           NaN   0.932178  0.932331  0.932255\n",
       "ExtraTreesClassifier                  NaN   0.950583  0.958974  0.954760\n",
       "ETT (Tuned)                           NaN   0.950583  0.958974  0.954760\n",
       "ExtraTreesClassifier (RS_Tuned)       NaN   0.911295  0.970579  0.940003"
      ]
     },
     "metadata": {},
     "output_type": "display_data"
    }
   ],
   "source": [
    "# Afficher le dataframe de tous les résultats\n",
    "df_metrics = pd.DataFrame(model_metrics).T\n",
    "display(df_metrics)"
   ]
  },
  {
   "cell_type": "markdown",
   "metadata": {},
   "source": [
    "En conclusion, nous avons pu voir que les modèles de classification ont des performances plutôt variées. Cependant, le modèle \"Random Forest\" est celui qui a les meilleurs résultats sur notre jeu de données."
   ]
  }
 ],
 "metadata": {
  "kernelspec": {
   "display_name": "Python 3 (ipykernel)",
   "language": "python",
   "name": "python3"
  },
  "language_info": {
   "codemirror_mode": {
    "name": "ipython",
    "version": 3
   },
   "file_extension": ".py",
   "mimetype": "text/x-python",
   "name": "python",
   "nbconvert_exporter": "python",
   "pygments_lexer": "ipython3",
   "version": "3.12.0"
  }
 },
 "nbformat": 4,
 "nbformat_minor": 2
}
