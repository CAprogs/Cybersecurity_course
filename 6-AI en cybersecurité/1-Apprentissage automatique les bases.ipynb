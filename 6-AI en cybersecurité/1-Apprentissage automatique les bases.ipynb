{
 "cells": [
  {
   "cell_type": "markdown",
   "metadata": {},
   "source": [
    "# Comprendre les bases avant d'appliquer l'apprentissage automatique"
   ]
  },
  {
   "cell_type": "code",
   "execution_count": 1,
   "metadata": {},
   "outputs": [],
   "source": [
    "# Importer les bibliothèques nécessaires\n",
    "import pandas as pd\n",
    "import numpy as np\n",
    "from sklearn.model_selection import train_test_split\n",
    "from sklearn.impute import SimpleImputer\n",
    "from sklearn.preprocessing import LabelEncoder, StandardScaler"
   ]
  },
  {
   "cell_type": "markdown",
   "metadata": {},
   "source": [
    "Data Preprocessing"
   ]
  },
  {
   "cell_type": "code",
   "execution_count": 2,
   "metadata": {},
   "outputs": [],
   "source": [
    "# Créer un ensemble de données aléatoire\n",
    "\n",
    "np.random.seed(42)\n",
    "\n",
    "data = {\n",
    "    'Feature1': np.random.randint(0, 100, 100),\n",
    "    'Feature2': np.random.choice(['A', 'B', 'C', np.nan], 100),\n",
    "    'Feature3': np.random.uniform(0, 1, 100),\n",
    "    'Target': np.random.choice([0, 1], 100)\n",
    "}"
   ]
  },
  {
   "cell_type": "code",
   "execution_count": 3,
   "metadata": {},
   "outputs": [],
   "source": [
    "# Création d'un Dataframe pandas avec \"data\"\n",
    "df = pd.DataFrame(data)"
   ]
  },
  {
   "cell_type": "code",
   "execution_count": 5,
   "metadata": {},
   "outputs": [
    {
     "data": {
      "text/html": [
       "<div>\n",
       "<style scoped>\n",
       "    .dataframe tbody tr th:only-of-type {\n",
       "        vertical-align: middle;\n",
       "    }\n",
       "\n",
       "    .dataframe tbody tr th {\n",
       "        vertical-align: top;\n",
       "    }\n",
       "\n",
       "    .dataframe thead th {\n",
       "        text-align: right;\n",
       "    }\n",
       "</style>\n",
       "<table border=\"1\" class=\"dataframe\">\n",
       "  <thead>\n",
       "    <tr style=\"text-align: right;\">\n",
       "      <th></th>\n",
       "      <th>Feature1</th>\n",
       "      <th>Feature2</th>\n",
       "      <th>Feature3</th>\n",
       "      <th>Target</th>\n",
       "    </tr>\n",
       "  </thead>\n",
       "  <tbody>\n",
       "    <tr>\n",
       "      <th>0</th>\n",
       "      <td>51</td>\n",
       "      <td>B</td>\n",
       "      <td>0.808120</td>\n",
       "      <td>0</td>\n",
       "    </tr>\n",
       "    <tr>\n",
       "      <th>1</th>\n",
       "      <td>92</td>\n",
       "      <td>A</td>\n",
       "      <td>0.633404</td>\n",
       "      <td>1</td>\n",
       "    </tr>\n",
       "    <tr>\n",
       "      <th>2</th>\n",
       "      <td>14</td>\n",
       "      <td>nan</td>\n",
       "      <td>0.871461</td>\n",
       "      <td>0</td>\n",
       "    </tr>\n",
       "    <tr>\n",
       "      <th>3</th>\n",
       "      <td>71</td>\n",
       "      <td>nan</td>\n",
       "      <td>0.803672</td>\n",
       "      <td>1</td>\n",
       "    </tr>\n",
       "    <tr>\n",
       "      <th>4</th>\n",
       "      <td>60</td>\n",
       "      <td>nan</td>\n",
       "      <td>0.186570</td>\n",
       "      <td>0</td>\n",
       "    </tr>\n",
       "    <tr>\n",
       "      <th>...</th>\n",
       "      <td>...</td>\n",
       "      <td>...</td>\n",
       "      <td>...</td>\n",
       "      <td>...</td>\n",
       "    </tr>\n",
       "    <tr>\n",
       "      <th>95</th>\n",
       "      <td>84</td>\n",
       "      <td>C</td>\n",
       "      <td>0.005062</td>\n",
       "      <td>0</td>\n",
       "    </tr>\n",
       "    <tr>\n",
       "      <th>96</th>\n",
       "      <td>79</td>\n",
       "      <td>B</td>\n",
       "      <td>0.160808</td>\n",
       "      <td>1</td>\n",
       "    </tr>\n",
       "    <tr>\n",
       "      <th>97</th>\n",
       "      <td>81</td>\n",
       "      <td>nan</td>\n",
       "      <td>0.548734</td>\n",
       "      <td>0</td>\n",
       "    </tr>\n",
       "    <tr>\n",
       "      <th>98</th>\n",
       "      <td>52</td>\n",
       "      <td>B</td>\n",
       "      <td>0.691895</td>\n",
       "      <td>1</td>\n",
       "    </tr>\n",
       "    <tr>\n",
       "      <th>99</th>\n",
       "      <td>23</td>\n",
       "      <td>B</td>\n",
       "      <td>0.651961</td>\n",
       "      <td>0</td>\n",
       "    </tr>\n",
       "  </tbody>\n",
       "</table>\n",
       "<p>100 rows × 4 columns</p>\n",
       "</div>"
      ],
      "text/plain": [
       "    Feature1 Feature2  Feature3  Target\n",
       "0         51        B  0.808120       0\n",
       "1         92        A  0.633404       1\n",
       "2         14      nan  0.871461       0\n",
       "3         71      nan  0.803672       1\n",
       "4         60      nan  0.186570       0\n",
       "..       ...      ...       ...     ...\n",
       "95        84        C  0.005062       0\n",
       "96        79        B  0.160808       1\n",
       "97        81      nan  0.548734       0\n",
       "98        52        B  0.691895       1\n",
       "99        23        B  0.651961       0\n",
       "\n",
       "[100 rows x 4 columns]"
      ]
     },
     "metadata": {},
     "output_type": "display_data"
    }
   ],
   "source": [
    "# Afficher les données\n",
    "display(df)"
   ]
  },
  {
   "cell_type": "code",
   "execution_count": 6,
   "metadata": {},
   "outputs": [
    {
     "name": "stdout",
     "output_type": "stream",
     "text": [
      "<class 'pandas.core.frame.DataFrame'>\n",
      "RangeIndex: 100 entries, 0 to 99\n",
      "Data columns (total 4 columns):\n",
      " #   Column    Non-Null Count  Dtype  \n",
      "---  ------    --------------  -----  \n",
      " 0   Feature1  100 non-null    int64  \n",
      " 1   Feature2  100 non-null    object \n",
      " 2   Feature3  100 non-null    float64\n",
      " 3   Target    100 non-null    int64  \n",
      "dtypes: float64(1), int64(2), object(1)\n",
      "memory usage: 3.3+ KB\n"
     ]
    }
   ],
   "source": [
    "# informations sur l'ensemble de données\n",
    "df.info()"
   ]
  },
  {
   "cell_type": "code",
   "execution_count": 7,
   "metadata": {},
   "outputs": [
    {
     "data": {
      "text/html": [
       "<div>\n",
       "<style scoped>\n",
       "    .dataframe tbody tr th:only-of-type {\n",
       "        vertical-align: middle;\n",
       "    }\n",
       "\n",
       "    .dataframe tbody tr th {\n",
       "        vertical-align: top;\n",
       "    }\n",
       "\n",
       "    .dataframe thead th {\n",
       "        text-align: right;\n",
       "    }\n",
       "</style>\n",
       "<table border=\"1\" class=\"dataframe\">\n",
       "  <thead>\n",
       "    <tr style=\"text-align: right;\">\n",
       "      <th></th>\n",
       "      <th>Feature1</th>\n",
       "      <th>Feature3</th>\n",
       "      <th>Target</th>\n",
       "    </tr>\n",
       "  </thead>\n",
       "  <tbody>\n",
       "    <tr>\n",
       "      <th>count</th>\n",
       "      <td>100.000000</td>\n",
       "      <td>100.000000</td>\n",
       "      <td>100.000000</td>\n",
       "    </tr>\n",
       "    <tr>\n",
       "      <th>mean</th>\n",
       "      <td>50.540000</td>\n",
       "      <td>0.495086</td>\n",
       "      <td>0.520000</td>\n",
       "    </tr>\n",
       "    <tr>\n",
       "      <th>std</th>\n",
       "      <td>29.425963</td>\n",
       "      <td>0.295744</td>\n",
       "      <td>0.502117</td>\n",
       "    </tr>\n",
       "    <tr>\n",
       "      <th>min</th>\n",
       "      <td>1.000000</td>\n",
       "      <td>0.005062</td>\n",
       "      <td>0.000000</td>\n",
       "    </tr>\n",
       "    <tr>\n",
       "      <th>25%</th>\n",
       "      <td>22.500000</td>\n",
       "      <td>0.239081</td>\n",
       "      <td>0.000000</td>\n",
       "    </tr>\n",
       "    <tr>\n",
       "      <th>50%</th>\n",
       "      <td>53.000000</td>\n",
       "      <td>0.515442</td>\n",
       "      <td>1.000000</td>\n",
       "    </tr>\n",
       "    <tr>\n",
       "      <th>75%</th>\n",
       "      <td>75.500000</td>\n",
       "      <td>0.736567</td>\n",
       "      <td>1.000000</td>\n",
       "    </tr>\n",
       "    <tr>\n",
       "      <th>max</th>\n",
       "      <td>99.000000</td>\n",
       "      <td>0.985650</td>\n",
       "      <td>1.000000</td>\n",
       "    </tr>\n",
       "  </tbody>\n",
       "</table>\n",
       "</div>"
      ],
      "text/plain": [
       "         Feature1    Feature3      Target\n",
       "count  100.000000  100.000000  100.000000\n",
       "mean    50.540000    0.495086    0.520000\n",
       "std     29.425963    0.295744    0.502117\n",
       "min      1.000000    0.005062    0.000000\n",
       "25%     22.500000    0.239081    0.000000\n",
       "50%     53.000000    0.515442    1.000000\n",
       "75%     75.500000    0.736567    1.000000\n",
       "max     99.000000    0.985650    1.000000"
      ]
     },
     "execution_count": 7,
     "metadata": {},
     "output_type": "execute_result"
    }
   ],
   "source": [
    "# Afficher le résumé statistique des colonnes numériques\n",
    "df_describe = df.describe()\n",
    "df_describe"
   ]
  },
  {
   "cell_type": "code",
   "execution_count": 8,
   "metadata": {},
   "outputs": [
    {
     "name": "stdout",
     "output_type": "stream",
     "text": [
      "Total columns: 4\n",
      "Numerical integer columns (2): Feature1, Target\n",
      "Numerical float columns (1): Feature3\n",
      "Categorical columns (1): Feature2\n"
     ]
    }
   ],
   "source": [
    "# Nombre de colonnes\n",
    "num_columns = len(df.columns)\n",
    "\n",
    "# Identifier les colonnes numériques int, float et catégorielles\n",
    "numerical_int_columns = df.select_dtypes(include=['int32', 'int64']).columns\n",
    "numerical_float_columns = df.select_dtypes(include=[ 'float32', 'float64']).columns\n",
    "categorical_columns = df.select_dtypes(include='object').columns\n",
    "\n",
    "# Afficher les informations\n",
    "print(f\"Total columns: {num_columns}\")\n",
    "\n",
    "if len(numerical_int_columns) > 0:\n",
    "    print(f\"Numerical integer columns ({len(numerical_int_columns)}): {', '.join(numerical_int_columns)}\")\n",
    "else:\n",
    "    print(\"No numerical integer columns found.\")\n",
    "\n",
    "if len(numerical_float_columns) > 0:\n",
    "    print(f\"Numerical float columns ({len(numerical_float_columns)}): {', '.join(numerical_float_columns)}\")\n",
    "else:\n",
    "    print(\"No numerical float columns found.\")\n",
    "\n",
    "if len(categorical_columns) > 0:\n",
    "    print(f\"Categorical columns ({len(categorical_columns)}): {', '.join(categorical_columns)}\")\n",
    "else:\n",
    "    print(\"No categorical columns found.\")\n"
   ]
  },
  {
   "cell_type": "code",
   "execution_count": 9,
   "metadata": {},
   "outputs": [
    {
     "name": "stdout",
     "output_type": "stream",
     "text": [
      "\n",
      "Dataset does not have any null or NaN values.\n"
     ]
    }
   ],
   "source": [
    "# Vérifier les valeurs nulles, NaN ou vides dans l'ensemble de données\n",
    "missing_values = df.isnull().sum()\n",
    "\n",
    "# Afficher le nombre de valeurs manquantes\n",
    "if missing_values.sum() > 0:\n",
    "    print(\"\\nCount of missing values per column:\")\n",
    "    print(missing_values)\n",
    "else:\n",
    "    print(\"\\nDataset does not have any null or NaN values.\")\n",
    "\n",
    "\n",
    "# NOTE :  Il semble que les valeurs nan dans la colonne « Feature2 » sont stockées sous forme de chaine de caractère, et non sous forme de valeurs NaN réelles. Il est donc incapable de compter les valeurs NaN."
   ]
  },
  {
   "cell_type": "code",
   "execution_count": 10,
   "metadata": {},
   "outputs": [
    {
     "name": "stdout",
     "output_type": "stream",
     "text": [
      "\n",
      "Count of 'nan' as string values per column:\n",
      "Feature1     0\n",
      "Feature2    23\n",
      "Feature3     0\n",
      "Target       0\n",
      "dtype: int64\n"
     ]
    }
   ],
   "source": [
    "# Compter les occurrences de 'nan' (chaine de caractère)\n",
    "nan_count = (df == 'nan').sum()\n",
    "\n",
    "# Afficher le nombre de valeurs « nan » par colonne\n",
    "print(\"\\nCount of 'nan' as string values per column:\")\n",
    "print(nan_count)\n",
    "\n",
    "# REMARQUE : les valeurs NaN seront désormais comptées comme une chaine de caractère."
   ]
  },
  {
   "cell_type": "code",
   "execution_count": 11,
   "metadata": {},
   "outputs": [],
   "source": [
    "# Remplacer les chaines de caractères « nan » par les valeurs NaN réelles\n",
    "df.replace({'nan': np.nan}, inplace=True)"
   ]
  },
  {
   "cell_type": "code",
   "execution_count": 11,
   "metadata": {},
   "outputs": [
    {
     "data": {
      "text/html": [
       "<div>\n",
       "<style scoped>\n",
       "    .dataframe tbody tr th:only-of-type {\n",
       "        vertical-align: middle;\n",
       "    }\n",
       "\n",
       "    .dataframe tbody tr th {\n",
       "        vertical-align: top;\n",
       "    }\n",
       "\n",
       "    .dataframe thead th {\n",
       "        text-align: right;\n",
       "    }\n",
       "</style>\n",
       "<table border=\"1\" class=\"dataframe\">\n",
       "  <thead>\n",
       "    <tr style=\"text-align: right;\">\n",
       "      <th></th>\n",
       "      <th>Feature1</th>\n",
       "      <th>Feature2</th>\n",
       "      <th>Feature3</th>\n",
       "      <th>Target</th>\n",
       "    </tr>\n",
       "  </thead>\n",
       "  <tbody>\n",
       "    <tr>\n",
       "      <th>0</th>\n",
       "      <td>51</td>\n",
       "      <td>B</td>\n",
       "      <td>0.808120</td>\n",
       "      <td>0</td>\n",
       "    </tr>\n",
       "    <tr>\n",
       "      <th>1</th>\n",
       "      <td>92</td>\n",
       "      <td>A</td>\n",
       "      <td>0.633404</td>\n",
       "      <td>1</td>\n",
       "    </tr>\n",
       "    <tr>\n",
       "      <th>2</th>\n",
       "      <td>14</td>\n",
       "      <td>NaN</td>\n",
       "      <td>0.871461</td>\n",
       "      <td>0</td>\n",
       "    </tr>\n",
       "    <tr>\n",
       "      <th>3</th>\n",
       "      <td>71</td>\n",
       "      <td>NaN</td>\n",
       "      <td>0.803672</td>\n",
       "      <td>1</td>\n",
       "    </tr>\n",
       "    <tr>\n",
       "      <th>4</th>\n",
       "      <td>60</td>\n",
       "      <td>NaN</td>\n",
       "      <td>0.186570</td>\n",
       "      <td>0</td>\n",
       "    </tr>\n",
       "    <tr>\n",
       "      <th>...</th>\n",
       "      <td>...</td>\n",
       "      <td>...</td>\n",
       "      <td>...</td>\n",
       "      <td>...</td>\n",
       "    </tr>\n",
       "    <tr>\n",
       "      <th>95</th>\n",
       "      <td>84</td>\n",
       "      <td>C</td>\n",
       "      <td>0.005062</td>\n",
       "      <td>0</td>\n",
       "    </tr>\n",
       "    <tr>\n",
       "      <th>96</th>\n",
       "      <td>79</td>\n",
       "      <td>B</td>\n",
       "      <td>0.160808</td>\n",
       "      <td>1</td>\n",
       "    </tr>\n",
       "    <tr>\n",
       "      <th>97</th>\n",
       "      <td>81</td>\n",
       "      <td>NaN</td>\n",
       "      <td>0.548734</td>\n",
       "      <td>0</td>\n",
       "    </tr>\n",
       "    <tr>\n",
       "      <th>98</th>\n",
       "      <td>52</td>\n",
       "      <td>B</td>\n",
       "      <td>0.691895</td>\n",
       "      <td>1</td>\n",
       "    </tr>\n",
       "    <tr>\n",
       "      <th>99</th>\n",
       "      <td>23</td>\n",
       "      <td>B</td>\n",
       "      <td>0.651961</td>\n",
       "      <td>0</td>\n",
       "    </tr>\n",
       "  </tbody>\n",
       "</table>\n",
       "<p>100 rows × 4 columns</p>\n",
       "</div>"
      ],
      "text/plain": [
       "    Feature1 Feature2  Feature3  Target\n",
       "0         51        B  0.808120       0\n",
       "1         92        A  0.633404       1\n",
       "2         14      NaN  0.871461       0\n",
       "3         71      NaN  0.803672       1\n",
       "4         60      NaN  0.186570       0\n",
       "..       ...      ...       ...     ...\n",
       "95        84        C  0.005062       0\n",
       "96        79        B  0.160808       1\n",
       "97        81      NaN  0.548734       0\n",
       "98        52        B  0.691895       1\n",
       "99        23        B  0.651961       0\n",
       "\n",
       "[100 rows x 4 columns]"
      ]
     },
     "metadata": {},
     "output_type": "display_data"
    }
   ],
   "source": [
    "display(df)"
   ]
  },
  {
   "cell_type": "code",
   "execution_count": 12,
   "metadata": {},
   "outputs": [
    {
     "name": "stdout",
     "output_type": "stream",
     "text": [
      "\n",
      "Count of missing values per column:\n",
      "Feature1     0\n",
      "Feature2    23\n",
      "Feature3     0\n",
      "Target       0\n",
      "dtype: int64\n"
     ]
    }
   ],
   "source": [
    "# REMARQUE : les données ont des valeurs NaN réelles, afin que nous puissions les nettoyer ou les imputer en fonction de nos besoins.\n",
    "\n",
    "\n",
    "# Rechercher les valeurs nulles, NaN ou vides dans l'ensemble de données\n",
    "missing_values = df.isnull().sum()\n",
    "\n",
    "# Afficher le nombre de valeurs manquantes\n",
    "if missing_values.sum() > 0:\n",
    "    print(\"\\nCount of missing values per column:\")\n",
    "    print(missing_values)\n",
    "else:\n",
    "    print(\"\\nDataset does not have any null or NaN values.\")"
   ]
  },
  {
   "cell_type": "markdown",
   "metadata": {},
   "source": [
    "Méthode 1 : imputer les valeurs à la place de « nan »"
   ]
  },
  {
   "cell_type": "code",
   "execution_count": 12,
   "metadata": {},
   "outputs": [
    {
     "name": "stdout",
     "output_type": "stream",
     "text": [
      "Dataset after imputation for categorical columns:\n",
      "  Feature2\n",
      "0        B\n",
      "1        A\n",
      "2        C\n",
      "3        C\n",
      "4        C\n",
      "\n",
      "Complete dataset after imputation:\n"
     ]
    },
    {
     "data": {
      "text/html": [
       "<div>\n",
       "<style scoped>\n",
       "    .dataframe tbody tr th:only-of-type {\n",
       "        vertical-align: middle;\n",
       "    }\n",
       "\n",
       "    .dataframe tbody tr th {\n",
       "        vertical-align: top;\n",
       "    }\n",
       "\n",
       "    .dataframe thead th {\n",
       "        text-align: right;\n",
       "    }\n",
       "</style>\n",
       "<table border=\"1\" class=\"dataframe\">\n",
       "  <thead>\n",
       "    <tr style=\"text-align: right;\">\n",
       "      <th></th>\n",
       "      <th>Feature2</th>\n",
       "      <th>Feature1</th>\n",
       "      <th>Feature3</th>\n",
       "      <th>Target</th>\n",
       "    </tr>\n",
       "  </thead>\n",
       "  <tbody>\n",
       "    <tr>\n",
       "      <th>0</th>\n",
       "      <td>B</td>\n",
       "      <td>51</td>\n",
       "      <td>0.808120</td>\n",
       "      <td>0</td>\n",
       "    </tr>\n",
       "    <tr>\n",
       "      <th>1</th>\n",
       "      <td>A</td>\n",
       "      <td>92</td>\n",
       "      <td>0.633404</td>\n",
       "      <td>1</td>\n",
       "    </tr>\n",
       "    <tr>\n",
       "      <th>2</th>\n",
       "      <td>C</td>\n",
       "      <td>14</td>\n",
       "      <td>0.871461</td>\n",
       "      <td>0</td>\n",
       "    </tr>\n",
       "    <tr>\n",
       "      <th>3</th>\n",
       "      <td>C</td>\n",
       "      <td>71</td>\n",
       "      <td>0.803672</td>\n",
       "      <td>1</td>\n",
       "    </tr>\n",
       "    <tr>\n",
       "      <th>4</th>\n",
       "      <td>C</td>\n",
       "      <td>60</td>\n",
       "      <td>0.186570</td>\n",
       "      <td>0</td>\n",
       "    </tr>\n",
       "    <tr>\n",
       "      <th>...</th>\n",
       "      <td>...</td>\n",
       "      <td>...</td>\n",
       "      <td>...</td>\n",
       "      <td>...</td>\n",
       "    </tr>\n",
       "    <tr>\n",
       "      <th>95</th>\n",
       "      <td>C</td>\n",
       "      <td>84</td>\n",
       "      <td>0.005062</td>\n",
       "      <td>0</td>\n",
       "    </tr>\n",
       "    <tr>\n",
       "      <th>96</th>\n",
       "      <td>B</td>\n",
       "      <td>79</td>\n",
       "      <td>0.160808</td>\n",
       "      <td>1</td>\n",
       "    </tr>\n",
       "    <tr>\n",
       "      <th>97</th>\n",
       "      <td>C</td>\n",
       "      <td>81</td>\n",
       "      <td>0.548734</td>\n",
       "      <td>0</td>\n",
       "    </tr>\n",
       "    <tr>\n",
       "      <th>98</th>\n",
       "      <td>B</td>\n",
       "      <td>52</td>\n",
       "      <td>0.691895</td>\n",
       "      <td>1</td>\n",
       "    </tr>\n",
       "    <tr>\n",
       "      <th>99</th>\n",
       "      <td>B</td>\n",
       "      <td>23</td>\n",
       "      <td>0.651961</td>\n",
       "      <td>0</td>\n",
       "    </tr>\n",
       "  </tbody>\n",
       "</table>\n",
       "<p>100 rows × 4 columns</p>\n",
       "</div>"
      ],
      "text/plain": [
       "   Feature2  Feature1  Feature3  Target\n",
       "0         B        51  0.808120       0\n",
       "1         A        92  0.633404       1\n",
       "2         C        14  0.871461       0\n",
       "3         C        71  0.803672       1\n",
       "4         C        60  0.186570       0\n",
       "..      ...       ...       ...     ...\n",
       "95        C        84  0.005062       0\n",
       "96        B        79  0.160808       1\n",
       "97        C        81  0.548734       0\n",
       "98        B        52  0.691895       1\n",
       "99        B        23  0.651961       0\n",
       "\n",
       "[100 rows x 4 columns]"
      ]
     },
     "metadata": {},
     "output_type": "display_data"
    }
   ],
   "source": [
    " # Importer les bibliothèques nécessaires\n",
    "from sklearn.impute import SimpleImputer\n",
    "\n",
    "# Identifier les colonnes catégorielles\n",
    "categorical_columns = df.select_dtypes(include=['object']).columns\n",
    "\n",
    "# Créer une instance SimpleImputer pour les colonnes catégorielles\n",
    "imputer_categorical = SimpleImputer(strategy='most_frequent')\n",
    "\n",
    "# Ajuster et transformer l'ordinateur sur l'ensemble de données pour les colonnes catégorielles\n",
    "df_imputed_categorical = pd.DataFrame(imputer_categorical.fit_transform(df[categorical_columns]), columns=categorical_columns)\n",
    "\n",
    "# Afficher l'ensemble de données après imputation pour les colonnes catégorielles\n",
    "print(\"Dataset after imputation for categorical columns:\")\n",
    "print(df_imputed_categorical.head())\n",
    "\n",
    "# Combinez les colonnes catégorielles imputées avec les colonnes numériques d'origine\n",
    "df_combined = pd.concat([df_imputed_categorical, df.drop(columns=categorical_columns)], axis=1)\n",
    "\n",
    "# Afficher l'ensemble de données complet après imputation\n",
    "print(\"\\nComplete dataset after imputation:\")\n",
    "display(df_combined)\n"
   ]
  },
  {
   "cell_type": "code",
   "execution_count": 13,
   "metadata": {},
   "outputs": [
    {
     "name": "stdout",
     "output_type": "stream",
     "text": [
      "\n",
      "Dataset does not have any null or NaN values.\n"
     ]
    }
   ],
   "source": [
    "# Vérifier les valeurs nulles, NaN ou vides dans l'ensemble de données\n",
    "missing_values = df_combined.isnull().sum()\n",
    "\n",
    "# Afficher le nombre de valeurs manquantes\n",
    "if missing_values.sum() > 0:\n",
    "    print(\"\\nCount of missing values per column:\")\n",
    "    print(missing_values)\n",
    "else:\n",
    "    print(\"\\nDataset does not have any null or NaN values.\")"
   ]
  },
  {
   "cell_type": "code",
   "execution_count": 14,
   "metadata": {},
   "outputs": [],
   "source": [
    "# Features et variable cible\n",
    "X = df_combined.drop('Target', axis=1)\n",
    "y = df_combined['Target']"
   ]
  },
  {
   "cell_type": "code",
   "execution_count": 15,
   "metadata": {},
   "outputs": [
    {
     "data": {
      "text/html": [
       "<div>\n",
       "<style scoped>\n",
       "    .dataframe tbody tr th:only-of-type {\n",
       "        vertical-align: middle;\n",
       "    }\n",
       "\n",
       "    .dataframe tbody tr th {\n",
       "        vertical-align: top;\n",
       "    }\n",
       "\n",
       "    .dataframe thead th {\n",
       "        text-align: right;\n",
       "    }\n",
       "</style>\n",
       "<table border=\"1\" class=\"dataframe\">\n",
       "  <thead>\n",
       "    <tr style=\"text-align: right;\">\n",
       "      <th></th>\n",
       "      <th>Feature2</th>\n",
       "      <th>Feature1</th>\n",
       "      <th>Feature3</th>\n",
       "    </tr>\n",
       "  </thead>\n",
       "  <tbody>\n",
       "    <tr>\n",
       "      <th>0</th>\n",
       "      <td>B</td>\n",
       "      <td>51</td>\n",
       "      <td>0.808120</td>\n",
       "    </tr>\n",
       "    <tr>\n",
       "      <th>1</th>\n",
       "      <td>A</td>\n",
       "      <td>92</td>\n",
       "      <td>0.633404</td>\n",
       "    </tr>\n",
       "    <tr>\n",
       "      <th>2</th>\n",
       "      <td>C</td>\n",
       "      <td>14</td>\n",
       "      <td>0.871461</td>\n",
       "    </tr>\n",
       "    <tr>\n",
       "      <th>3</th>\n",
       "      <td>C</td>\n",
       "      <td>71</td>\n",
       "      <td>0.803672</td>\n",
       "    </tr>\n",
       "    <tr>\n",
       "      <th>4</th>\n",
       "      <td>C</td>\n",
       "      <td>60</td>\n",
       "      <td>0.186570</td>\n",
       "    </tr>\n",
       "    <tr>\n",
       "      <th>...</th>\n",
       "      <td>...</td>\n",
       "      <td>...</td>\n",
       "      <td>...</td>\n",
       "    </tr>\n",
       "    <tr>\n",
       "      <th>95</th>\n",
       "      <td>C</td>\n",
       "      <td>84</td>\n",
       "      <td>0.005062</td>\n",
       "    </tr>\n",
       "    <tr>\n",
       "      <th>96</th>\n",
       "      <td>B</td>\n",
       "      <td>79</td>\n",
       "      <td>0.160808</td>\n",
       "    </tr>\n",
       "    <tr>\n",
       "      <th>97</th>\n",
       "      <td>C</td>\n",
       "      <td>81</td>\n",
       "      <td>0.548734</td>\n",
       "    </tr>\n",
       "    <tr>\n",
       "      <th>98</th>\n",
       "      <td>B</td>\n",
       "      <td>52</td>\n",
       "      <td>0.691895</td>\n",
       "    </tr>\n",
       "    <tr>\n",
       "      <th>99</th>\n",
       "      <td>B</td>\n",
       "      <td>23</td>\n",
       "      <td>0.651961</td>\n",
       "    </tr>\n",
       "  </tbody>\n",
       "</table>\n",
       "<p>100 rows × 3 columns</p>\n",
       "</div>"
      ],
      "text/plain": [
       "   Feature2  Feature1  Feature3\n",
       "0         B        51  0.808120\n",
       "1         A        92  0.633404\n",
       "2         C        14  0.871461\n",
       "3         C        71  0.803672\n",
       "4         C        60  0.186570\n",
       "..      ...       ...       ...\n",
       "95        C        84  0.005062\n",
       "96        B        79  0.160808\n",
       "97        C        81  0.548734\n",
       "98        B        52  0.691895\n",
       "99        B        23  0.651961\n",
       "\n",
       "[100 rows x 3 columns]"
      ]
     },
     "metadata": {},
     "output_type": "display_data"
    }
   ],
   "source": [
    "display(X)"
   ]
  },
  {
   "cell_type": "code",
   "execution_count": 16,
   "metadata": {},
   "outputs": [
    {
     "data": {
      "text/plain": [
       "0     0\n",
       "1     1\n",
       "2     0\n",
       "3     1\n",
       "4     0\n",
       "     ..\n",
       "95    0\n",
       "96    1\n",
       "97    0\n",
       "98    1\n",
       "99    0\n",
       "Name: Target, Length: 100, dtype: int64"
      ]
     },
     "metadata": {},
     "output_type": "display_data"
    }
   ],
   "source": [
    "display(y)"
   ]
  },
  {
   "cell_type": "code",
   "execution_count": 17,
   "metadata": {},
   "outputs": [],
   "source": [
    "# Encodage d'étiquette pour la variable catégorielle 'Feature2'\n",
    "encoder = LabelEncoder()\n",
    "X['Feature2'] = encoder.fit_transform(X['Feature2'])\n"
   ]
  },
  {
   "cell_type": "code",
   "execution_count": 18,
   "metadata": {},
   "outputs": [
    {
     "data": {
      "text/html": [
       "<div>\n",
       "<style scoped>\n",
       "    .dataframe tbody tr th:only-of-type {\n",
       "        vertical-align: middle;\n",
       "    }\n",
       "\n",
       "    .dataframe tbody tr th {\n",
       "        vertical-align: top;\n",
       "    }\n",
       "\n",
       "    .dataframe thead th {\n",
       "        text-align: right;\n",
       "    }\n",
       "</style>\n",
       "<table border=\"1\" class=\"dataframe\">\n",
       "  <thead>\n",
       "    <tr style=\"text-align: right;\">\n",
       "      <th></th>\n",
       "      <th>Feature2</th>\n",
       "      <th>Feature1</th>\n",
       "      <th>Feature3</th>\n",
       "    </tr>\n",
       "  </thead>\n",
       "  <tbody>\n",
       "    <tr>\n",
       "      <th>0</th>\n",
       "      <td>1</td>\n",
       "      <td>51</td>\n",
       "      <td>0.808120</td>\n",
       "    </tr>\n",
       "    <tr>\n",
       "      <th>1</th>\n",
       "      <td>0</td>\n",
       "      <td>92</td>\n",
       "      <td>0.633404</td>\n",
       "    </tr>\n",
       "    <tr>\n",
       "      <th>2</th>\n",
       "      <td>2</td>\n",
       "      <td>14</td>\n",
       "      <td>0.871461</td>\n",
       "    </tr>\n",
       "    <tr>\n",
       "      <th>3</th>\n",
       "      <td>2</td>\n",
       "      <td>71</td>\n",
       "      <td>0.803672</td>\n",
       "    </tr>\n",
       "    <tr>\n",
       "      <th>4</th>\n",
       "      <td>2</td>\n",
       "      <td>60</td>\n",
       "      <td>0.186570</td>\n",
       "    </tr>\n",
       "    <tr>\n",
       "      <th>...</th>\n",
       "      <td>...</td>\n",
       "      <td>...</td>\n",
       "      <td>...</td>\n",
       "    </tr>\n",
       "    <tr>\n",
       "      <th>95</th>\n",
       "      <td>2</td>\n",
       "      <td>84</td>\n",
       "      <td>0.005062</td>\n",
       "    </tr>\n",
       "    <tr>\n",
       "      <th>96</th>\n",
       "      <td>1</td>\n",
       "      <td>79</td>\n",
       "      <td>0.160808</td>\n",
       "    </tr>\n",
       "    <tr>\n",
       "      <th>97</th>\n",
       "      <td>2</td>\n",
       "      <td>81</td>\n",
       "      <td>0.548734</td>\n",
       "    </tr>\n",
       "    <tr>\n",
       "      <th>98</th>\n",
       "      <td>1</td>\n",
       "      <td>52</td>\n",
       "      <td>0.691895</td>\n",
       "    </tr>\n",
       "    <tr>\n",
       "      <th>99</th>\n",
       "      <td>1</td>\n",
       "      <td>23</td>\n",
       "      <td>0.651961</td>\n",
       "    </tr>\n",
       "  </tbody>\n",
       "</table>\n",
       "<p>100 rows × 3 columns</p>\n",
       "</div>"
      ],
      "text/plain": [
       "    Feature2  Feature1  Feature3\n",
       "0          1        51  0.808120\n",
       "1          0        92  0.633404\n",
       "2          2        14  0.871461\n",
       "3          2        71  0.803672\n",
       "4          2        60  0.186570\n",
       "..       ...       ...       ...\n",
       "95         2        84  0.005062\n",
       "96         1        79  0.160808\n",
       "97         2        81  0.548734\n",
       "98         1        52  0.691895\n",
       "99         1        23  0.651961\n",
       "\n",
       "[100 rows x 3 columns]"
      ]
     },
     "metadata": {},
     "output_type": "display_data"
    }
   ],
   "source": [
    "display(X)"
   ]
  },
  {
   "cell_type": "code",
   "execution_count": 19,
   "metadata": {},
   "outputs": [],
   "source": [
    "# Diviser l'ensemble de données en train et test\n",
    "X_train, X_test, y_train, y_test = train_test_split(X, y, test_size=0.2, random_state=42)\n"
   ]
  },
  {
   "cell_type": "code",
   "execution_count": 20,
   "metadata": {},
   "outputs": [
    {
     "name": "stdout",
     "output_type": "stream",
     "text": [
      "X_train:\n",
      "    Feature2  Feature1  Feature3\n",
      "55         2         8  0.040775\n",
      "88         2        47  0.084140\n",
      "26         0        57  0.971782\n",
      "42         2        54  0.242055\n",
      "69         1        35  0.924694\n",
      "..       ...       ...       ...\n",
      "60         1        91  0.226496\n",
      "71         2         3  0.257942\n",
      "14         2        21  0.860731\n",
      "92         2        86  0.009197\n",
      "51         2         3  0.090290\n",
      "\n",
      "[80 rows x 3 columns]\n"
     ]
    }
   ],
   "source": [
    "print(\"X_train:\")\n",
    "print(X_train)\n"
   ]
  },
  {
   "cell_type": "code",
   "execution_count": 21,
   "metadata": {},
   "outputs": [
    {
     "name": "stdout",
     "output_type": "stream",
     "text": [
      "X_test:\n",
      "    Feature2  Feature1  Feature3\n",
      "83         0        73  0.725956\n",
      "53         2        59  0.320780\n",
      "70         1        49  0.877339\n",
      "45         0        50  0.237638\n",
      "44         2         2  0.761620\n",
      "39         0        46  0.144895\n",
      "22         0        59  0.323203\n",
      "80         2        89  0.633101\n",
      "10         0        87  0.110052\n",
      "0          1        51  0.808120\n",
      "18         2        29  0.222108\n",
      "30         2        90  0.300878\n",
      "73         2         5  0.817222\n",
      "33         2        91  0.609564\n",
      "90         2        71  0.898554\n",
      "4          2        60  0.186570\n",
      "76         2        53  0.241852\n",
      "77         0        92  0.093103\n",
      "12         2        23  0.427108\n",
      "31         1        58  0.284840\n"
     ]
    }
   ],
   "source": [
    "print(\"X_test:\")\n",
    "print(X_test)"
   ]
  },
  {
   "cell_type": "code",
   "execution_count": 22,
   "metadata": {},
   "outputs": [
    {
     "name": "stdout",
     "output_type": "stream",
     "text": [
      "y_train:\n",
      "55    1\n",
      "88    1\n",
      "26    1\n",
      "42    0\n",
      "69    0\n",
      "     ..\n",
      "60    0\n",
      "71    1\n",
      "14    0\n",
      "92    1\n",
      "51    1\n",
      "Name: Target, Length: 80, dtype: int64\n"
     ]
    }
   ],
   "source": [
    "print(\"y_train:\")\n",
    "print(y_train)"
   ]
  },
  {
   "cell_type": "code",
   "execution_count": 23,
   "metadata": {},
   "outputs": [
    {
     "name": "stdout",
     "output_type": "stream",
     "text": [
      "y_test:\n",
      "83    1\n",
      "53    1\n",
      "70    0\n",
      "45    1\n",
      "44    0\n",
      "39    0\n",
      "22    0\n",
      "80    1\n",
      "10    1\n",
      "0     0\n",
      "18    1\n",
      "30    1\n",
      "73    1\n",
      "33    0\n",
      "90    1\n",
      "4     0\n",
      "76    0\n",
      "77    1\n",
      "12    0\n",
      "31    1\n",
      "Name: Target, dtype: int64\n"
     ]
    }
   ],
   "source": [
    "print(\"y_test:\")\n",
    "print(y_test)"
   ]
  },
  {
   "cell_type": "markdown",
   "metadata": {},
   "source": [
    "Modeling"
   ]
  },
  {
   "cell_type": "code",
   "execution_count": 24,
   "metadata": {},
   "outputs": [],
   "source": [
    "# Importer les bibliothèques ML nécessaires\n",
    "from sklearn.linear_model import LinearRegression\n",
    "from sklearn.metrics import mean_squared_error, r2_score"
   ]
  },
  {
   "cell_type": "code",
   "execution_count": 26,
   "metadata": {},
   "outputs": [
    {
     "name": "stdout",
     "output_type": "stream",
     "text": [
      "Mean Squared Error: 0.2327210088675704\n",
      "R-squared: 0.05971309548456383\n"
     ]
    }
   ],
   "source": [
    "# Créer un modèle de régression linéaire\n",
    "model = LinearRegression()\n",
    "\n",
    "# Ajuster le modèle sur les données d'entraînement\n",
    "model.fit(X_train, y_train)\n",
    "\n",
    "# Prédire sur les données d'entraînement\n",
    "y_pred = model.predict(X_test)\n",
    "\n",
    "# Évaluer le modèle\n",
    "mse = mean_squared_error(y_test, y_pred)\n",
    "r2 = r2_score(y_test, y_pred)\n",
    "\n",
    "# Afficher les métriques d'évaluation\n",
    "print(\"Mean Squared Error:\", mse)\n",
    "print(\"R-squared:\", r2)"
   ]
  },
  {
   "cell_type": "markdown",
   "metadata": {},
   "source": [
    "Méthode 2 : supprimer les valeurs « nan »"
   ]
  },
  {
   "cell_type": "code",
   "execution_count": 27,
   "metadata": {},
   "outputs": [
    {
     "name": "stdout",
     "output_type": "stream",
     "text": [
      "Dataset after removing rows with NaN values:\n",
      "   Feature1 Feature2  Feature3  Target\n",
      "0        51        B  0.808120       0\n",
      "1        92        A  0.633404       1\n",
      "5        20        A  0.892559       1\n",
      "6        82        A  0.539342       0\n",
      "7        86        A  0.807440       1\n"
     ]
    }
   ],
   "source": [
    "# Supprimer les lignes avec des valeurs NaN\n",
    "df_cleaned = df.dropna()\n",
    "\n",
    "# Afficher l'ensemble de données nettoyées\n",
    "print(\"Dataset after removing rows with NaN values:\")\n",
    "print(df_cleaned.head())"
   ]
  },
  {
   "cell_type": "code",
   "execution_count": 28,
   "metadata": {},
   "outputs": [],
   "source": [
    "# Séparer les features et variable cible\n",
    "M2_X = df_cleaned.drop('Target', axis=1)\n",
    "M2_y = df_cleaned['Target']"
   ]
  },
  {
   "cell_type": "code",
   "execution_count": 29,
   "metadata": {},
   "outputs": [],
   "source": [
    "# Encodage d'étiquette pour la variable catégorielle 'Feature2'\n",
    "encoder = LabelEncoder()\n",
    "M2_X['Feature2'] = encoder.fit_transform(M2_X['Feature2'])"
   ]
  },
  {
   "cell_type": "code",
   "execution_count": 30,
   "metadata": {},
   "outputs": [],
   "source": [
    "# Diviser l'ensemble de données en train et test\n",
    "\n",
    "\n",
    "M2_X_train, M2_X_test, M2_y_train, M2_y_test = train_test_split(M2_X, M2_y, test_size=0.2, random_state=42)\n"
   ]
  },
  {
   "cell_type": "markdown",
   "metadata": {},
   "source": [
    "# La modélisation:"
   ]
  },
  {
   "cell_type": "code",
   "execution_count": 31,
   "metadata": {},
   "outputs": [
    {
     "name": "stdout",
     "output_type": "stream",
     "text": [
      "Mean Squared Error: 0.23452206469448297\n",
      "R-squared: 0.05971309548456383\n"
     ]
    }
   ],
   "source": [
    "# Créer un modèle de régression linéaire\n",
    "model = LinearRegression()\n",
    "\n",
    "# Ajuster le modèle sur les données d'entraînement\n",
    "model.fit(M2_X, M2_y)\n",
    "\n",
    "# Prédire sur les données d'entraînement\n",
    "M2_y_pred = model.predict(M2_X)\n",
    "\n",
    "# Évaluer le modèle\n",
    "M2_mse = mean_squared_error(M2_y, M2_y_pred)\n",
    "M2_r2 = r2_score(M2_y, M2_y_pred)\n",
    "\n",
    "# Afficher les métriques d'évaluation\n",
    "print(\"Mean Squared Error:\", M2_mse)\n",
    "print(\"R-squared:\", r2)"
   ]
  },
  {
   "cell_type": "code",
   "execution_count": 32,
   "metadata": {},
   "outputs": [
    {
     "name": "stdout",
     "output_type": "stream",
     "text": [
      "Intercept value: 0.25183153799322383\n",
      "Regression coefficients: [0.00401039 0.0560522  0.02562945]\n"
     ]
    }
   ],
   "source": [
    "# Obtenir nos paramètres de modèle\n",
    "print('Intercept value:', model.intercept_) #b\n",
    "print('Regression coefficients:', model.coef_) #m"
   ]
  },
  {
   "cell_type": "markdown",
   "metadata": {},
   "source": [
    "# Exercise:\n",
    "\n",
    "1) Vérifier les techniques de transformation de données ci-dessous et appliquez-en au minimum trois autres méthodes.\n",
    "\n",
    "https://scikit-learn.org/stable/data_transforms.html\n",
    "\n",
    "2) Vous pouvez également ajouter plus de colonnes\n",
    "\n",
    "3) Verifier et comparer les performances des modèles après avoir appliqué l'ensemble des transformation de données\n",
    "\n",
    "4) Verfier et tester d'autres methodes de régression:  Ridge, Lasso et Elastic Net et comparer les performances des modèles\n",
    "\n",
    "https://scikit-learn.org/stable/modules/classes.html#module-sklearn.linear_model\n"
   ]
  }
 ],
 "metadata": {
  "kernelspec": {
   "display_name": "Python 3 (ipykernel)",
   "language": "python",
   "name": "python3"
  },
  "language_info": {
   "codemirror_mode": {
    "name": "ipython",
    "version": 3
   },
   "file_extension": ".py",
   "mimetype": "text/x-python",
   "name": "python",
   "nbconvert_exporter": "python",
   "pygments_lexer": "ipython3",
   "version": "3.12.0"
  }
 },
 "nbformat": 4,
 "nbformat_minor": 2
}
