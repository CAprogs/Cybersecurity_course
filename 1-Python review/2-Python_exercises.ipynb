{
 "cells": [
  {
   "cell_type": "markdown",
   "metadata": {},
   "source": [
    "List\n",
    "\n",
    "Create a List:\n",
    "- Create a list named numbers containing five integers of your choice.\n",
    "\n",
    "Print the List:\n",
    "- Print the entire list to the console.\n",
    "\n",
    "Accessing Elements:\n",
    "- Print the third element of the list.\n",
    "\n",
    "Update the List:\n",
    "- Append the number 10 to the end of the list.\n",
    "\n",
    "Insert Element:\n",
    "- Insert the number 25 at the second position in the list.\n",
    "\n",
    "Remove Element:\n",
    "- Remove the fourth element of the list.\n",
    "\n",
    "Check Length:\n",
    "- Print the length of the updated list.\n",
    "\n",
    "Sum of Elements:\n",
    "- Calculate and print the sum of all elements in the list.\n",
    "\n",
    "Sort the List:\n",
    "- Sort the list in ascending order.\n",
    "\n",
    "Reverse the List:\n",
    "- Reverse the order of elements in the list."
   ]
  },
  {
   "cell_type": "code",
   "execution_count": 2,
   "metadata": {},
   "outputs": [
    {
     "name": "stdout",
     "output_type": "stream",
     "text": [
      "Numbers:  [10, 29, 35, 42, 50]\n",
      "Third element:  35\n",
      "Updated numbers:  [10, 29, 35, 42, 50, 10]\n",
      "Inserted 25 at the second position:  [10, 25, 29, 35, 42, 50, 10]\n",
      "After removing the fourth element:  [10, 25, 29, 42, 50, 10]\n",
      "Length of the updated list:  6\n",
      "Sum of elements:  166\n",
      "Sorted numbers:  [10, 10, 25, 29, 42, 50]\n",
      "Reversed numbers:  [50, 42, 29, 25, 10, 10]\n"
     ]
    }
   ],
   "source": [
    "# Initial List\n",
    "numbers = [10, 29, 35, 42, 50]\n",
    "\n",
    "# Print the List\n",
    "print(\"Numbers: \",numbers)\n",
    "\n",
    "# Accessing Elements\n",
    "print(\"Third element: \",numbers[2])\n",
    "\n",
    "# Update the List\n",
    "numbers.append(10)\n",
    "print(\"Updated numbers: \",numbers)\n",
    "\n",
    "# Insert Element\n",
    "numbers.insert(1, 25)\n",
    "print(\"Inserted 25 at the second position: \",numbers)\n",
    "\n",
    "# Remove Element\n",
    "numbers.remove(numbers[3])\n",
    "print(\"After removing the fourth element: \",numbers)\n",
    "\n",
    "# Check Length\n",
    "print(\"Length of the updated list: \",len(numbers))\n",
    "\n",
    "# Sum of Elements\n",
    "print(\"Sum of elements: \",sum(numbers))\n",
    "\n",
    "# Sort the List\n",
    "print(\"Sorted numbers: \",sorted(numbers))\n",
    "\n",
    "# Reverse the List\n",
    "print(\"Reversed numbers: \",sorted(numbers, reverse=True))"
   ]
  },
  {
   "cell_type": "markdown",
   "metadata": {},
   "source": [
    "Conditions\n",
    "\n",
    "Age Check:\n",
    "- Create a variable named age and assign it a value (e.g., 16).\n",
    "- Write an if-else statement to check if the age is greater than or equal to 18.\n",
    "- If the condition is met, print \"You are an adult.\"\n",
    "- If not, print \"You are a minor.\""
   ]
  },
  {
   "cell_type": "code",
   "execution_count": 4,
   "metadata": {},
   "outputs": [
    {
     "name": "stdout",
     "output_type": "stream",
     "text": [
      "You are a minor\n",
      "You are a minor\n"
     ]
    }
   ],
   "source": [
    "# Age Check\n",
    "age = 16\n",
    "\n",
    "# Extended Condition\n",
    "if age >= 18:\n",
    "    print(\"You are an adult\")\n",
    "else:\n",
    "    print(\"You are a minor\")\n",
    "\n",
    "# User Input\n",
    "if __name__ == '__main__':\n",
    "    try:\n",
    "        age = int(input(\"Enter your age: \"))\n",
    "        # Extended Condition\n",
    "        if age >= 18:\n",
    "            print(\"You are an adult\")\n",
    "        else:\n",
    "            print(\"You are a minor\")\n",
    "    except ValueError:\n",
    "        print(\"Please enter a valid age\")"
   ]
  },
  {
   "cell_type": "markdown",
   "metadata": {},
   "source": [
    "Loop\n",
    "\n",
    "User Input Loop:\n",
    "- Implement a while loop that <b>repeatedly</b> takes an integer input from the user.\n",
    "- Stop the loop when the user enters the number 0.\n",
    "- Inside the loop, print the square of the entered number."
   ]
  },
  {
   "cell_type": "code",
   "execution_count": 7,
   "metadata": {},
   "outputs": [
    {
     "name": "stdout",
     "output_type": "stream",
     "text": [
      "User Input Loop:\n",
      "Square of 5:  25\n",
      "Square of 6:  36\n",
      "Square of 8:  64\n",
      "Square of 9:  81\n"
     ]
    }
   ],
   "source": [
    "# User Input Loop\n",
    "print(\"User Input Loop:\")\n",
    "while True:\n",
    "    value = input(\"Enter a number: \")\n",
    "    if value.isdigit() and int(value) == 0:\n",
    "        break\n",
    "    try:\n",
    "        print(f\"Square of {int(value)}: \",int(value) ** 2)\n",
    "    except ValueError:\n",
    "        print(\"Please enter a valid number\")\n",
    "        continue"
   ]
  },
  {
   "cell_type": "markdown",
   "metadata": {},
   "source": [
    "Functions\n",
    "\n",
    "Parameterized Greeting:\n",
    "- Modify the function to take two parameters - greeting and name.\n",
    "- Use both parameters to construct and return the greeting message.\n",
    "- Call the function with a custom greeting and name, then print the result."
   ]
  },
  {
   "cell_type": "code",
   "execution_count": 1,
   "metadata": {},
   "outputs": [
    {
     "name": "stdout",
     "output_type": "stream",
     "text": [
      "Hi, John!\n"
     ]
    }
   ],
   "source": [
    "# Parameterized Greeting\n",
    "def Greeting(greeting, name):\n",
    "    print(f\"{greeting}, {name}!\")\n",
    "\n",
    "Greeting(\"Hi\", \"John\")"
   ]
  },
  {
   "cell_type": "markdown",
   "metadata": {},
   "source": [
    "Dictionaries\n",
    "\n",
    "- Basic Dictionary:\n",
    "    - Create a dictionary named car with keys \"brand\", \"model\", and \"year\".\n",
    "    - Assign values to each key representing the brand, model, and manufacturing year of a car.\n",
    "    - Print the entire dictionary.\n",
    "- Accessing Values:\n",
    "    - Print the brand and model of the car from the dictionary.\n",
    "- Adding and Updating:\n",
    "    - Add a new key-value pair to the dictionary representing the color of the car.\n",
    "    - Update the model of the car to a new value.\n",
    "    - Print the updated dictionary."
   ]
  },
  {
   "cell_type": "code",
   "execution_count": 1,
   "metadata": {},
   "outputs": [
    {
     "name": "stdout",
     "output_type": "stream",
     "text": [
      "Car: {'brand': 'Renault', 'model': 'Koleos', 'year': 2023}\n",
      "Brand: Renault\n",
      "Model: Koleos\n",
      "Updated Car: {'brand': 'Renault', 'model': 'Corolla', 'year': 2023, 'color': 'Blue'}\n"
     ]
    }
   ],
   "source": [
    "# Basic Dictionary\n",
    "car = {\"brand\": \"Renault\", \"model\": \"Koleos\", \"year\": 2023}\n",
    "print(f\"Car: {car}\")\n",
    "\n",
    "# Accessing Values\n",
    "print(f\"Brand: {car[\"brand\"]}\\nModel: {car[\"model\"]}\")\n",
    "\n",
    "# Adding and Updating\n",
    "car[\"color\"] = \"Blue\"\n",
    "car[\"model\"] = \"Corolla\"\n",
    "print(f\"Updated Car: {car}\")"
   ]
  },
  {
   "cell_type": "markdown",
   "metadata": {},
   "source": [
    "Exception Handling\n",
    "\n",
    "- Basic Exception Handling\n",
    "\n",
    "    - Use a try block to divide two numbers (e.g., 10 / 0).\n",
    "    - Catch the ZeroDivisionError exception.\n",
    "    - Print an error message indicating the type of the exception and the error message.\n",
    "\n",
    "- File Handling:\n",
    "    - Try to open a non-existing file for reading.\n",
    "    - Catch the FileNotFoundError exception and print an error message."
   ]
  },
  {
   "cell_type": "code",
   "execution_count": 2,
   "metadata": {},
   "outputs": [
    {
     "name": "stdout",
     "output_type": "stream",
     "text": [
      "Error type: <class 'ZeroDivisionError'>\n",
      "Error message: division by zero\n",
      "Error type: <class 'FileNotFoundError'>\n",
      "Error message: [Errno 2] No such file or directory: 'file.txt'\n"
     ]
    }
   ],
   "source": [
    "# Exception Handling\n",
    "try:\n",
    "    division = 10 / 0\n",
    "except ZeroDivisionError as e:\n",
    "    print(f\"Error type: {type(e)}\\nError message: {e}\")\n",
    "\n",
    "# File Handling\n",
    "try:\n",
    "    with open(\"file.txt\", \"r\") as file:\n",
    "        file_content = file.read()\n",
    "except FileNotFoundError as e:\n",
    "    print(f\"Error type: {type(e)}\\nError message: {e}\")"
   ]
  },
  {
   "cell_type": "markdown",
   "metadata": {},
   "source": [
    "JSON\n",
    "\n",
    "- Writing to JSON:\n",
    "    - Create a dictionary containing data (e.g., information about a person).\n",
    "    - Use the json.dump function to write the data to a JSON file named \"person.json\".\n",
    "    - Open and inspect the created \"person.json\" file.\n",
    "\n",
    "- Reading from JSON:\n",
    "    - Use the json.load function to read and load data from the \"person.json\" file.\n",
    "    - Print the loaded data.\n",
    "\n",
    "- User Input to JSON:\n",
    "    - Implement a function named get_user_info that takes user input for name and age.\n",
    "    - Create a dictionary with the input data.\n",
    "    - Use json.dump to write the user data to a new JSON file named \"user_info.json\"."
   ]
  },
  {
   "cell_type": "code",
   "execution_count": 3,
   "metadata": {},
   "outputs": [
    {
     "name": "stdout",
     "output_type": "stream",
     "text": [
      "{'name': 'John', 'age': 30, 'city': 'New York'}\n"
     ]
    }
   ],
   "source": [
    "import json\n",
    "\n",
    "data = {\n",
    "    \"name\": \"John\",\n",
    "    \"age\": 30,\n",
    "    \"city\": \"New York\"}\n",
    "\n",
    "# Writing to JSON\n",
    "with open(\"data.json\", \"w\") as file:\n",
    "    json.dump(data, file)\n",
    "\n",
    "# Reading from JSON\n",
    "with open(\"data.json\", \"r\") as file:\n",
    "    loaded_data = json.load(file)\n",
    "    print(loaded_data)\n",
    "\n",
    "# User Input to JSON\n",
    "def get_user_info():\n",
    "    name = input(\"Enter your name: \")\n",
    "    age = input(\"Enter your age: \")\n",
    "    data = {\n",
    "        \"name\": name,\n",
    "        \"age\": age}\n",
    "    with open(\"user_info.json\", \"w\") as file:\n",
    "        json.dump(data, file)\n",
    "\n",
    "# Call the function to get user input and write to JSON\n",
    "get_user_info()\n"
   ]
  },
  {
   "cell_type": "markdown",
   "metadata": {},
   "source": [
    "Lambda\n",
    "\n",
    "- Parameterized Lambda:\n",
    "    - Create a lambda function named power that takes two parameters base and exponent and calculates base**exponent.\n",
    "    - Use the lambda function to calculate the power of a sample base and exponent, then print the result.\n",
    "- List Transformation:\n",
    "    - Create a list of numbers.\n",
    "    - Use the map function with a lambda expression to square each number in the list.\n",
    "    - Print the squared numbers."
   ]
  },
  {
   "cell_type": "code",
   "execution_count": 4,
   "metadata": {},
   "outputs": [
    {
     "name": "stdout",
     "output_type": "stream",
     "text": [
      "8\n",
      "[1, 4, 9, 16, 25]\n"
     ]
    }
   ],
   "source": [
    "# Parameterized Lambda\n",
    "power = lambda base, argument: base ** argument\n",
    "result = power(2, 3)\n",
    "print(result)\n",
    "\n",
    "# List Transformation\n",
    "numbers = [1, 2, 3, 4, 5]\n",
    "squared_numbers = list(map(lambda x: x ** 2, numbers))\n",
    "print(squared_numbers)"
   ]
  },
  {
   "cell_type": "markdown",
   "metadata": {},
   "source": [
    "Enumerate\n",
    "\n",
    "- Enumerate with Custom Start Index:\n",
    "    - Create a list of words.\n",
    "    - Modify the loop to start the index from 1 instead of 0.\n",
    "    - Print each word along with its adjusted index.\n",
    "\n",
    "- Modify List Elements:\n",
    "    - Create a list of numbers.\n",
    "    - Use enumerate to iterate over the list and double each number in place.\n",
    "    - Print the modified list."
   ]
  },
  {
   "cell_type": "code",
   "execution_count": 9,
   "metadata": {},
   "outputs": [
    {
     "name": "stdout",
     "output_type": "stream",
     "text": [
      "index 1: apple\n",
      "index 2: orange\n",
      "index 3: banana\n",
      "Modified Numbers:  [2, 4, 6, 8, 10]\n"
     ]
    }
   ],
   "source": [
    "\n",
    "# Enumerate with Custom Start Index\n",
    "words = [\"apple\", \"orange\", \"banana\"]\n",
    "for index, word in enumerate(words, start=1):\n",
    "    print(f\"index {index}: {word}\")\n",
    "\n",
    "# Modify List Elements\n",
    "numbers = [1, 2, 3, 4, 5]\n",
    "for index, number in enumerate(numbers, start=0):\n",
    "    numbers[index] = number * 2\n",
    "print(\"Modified Numbers: \",numbers)\n"
   ]
  },
  {
   "cell_type": "markdown",
   "metadata": {},
   "source": [
    "List Slicing\n",
    "\n",
    "- Negative Index Slicing:\n",
    "    - Modify the slicing to include elements from the end of the list.\n",
    "    - Use negative indices to create a subset containing the last three elements.\n",
    "    - Print the original list and the new subset.\n",
    "- Slicing with Steps:\n",
    "    - Create a list of characters (e.g., letters of the alphabet).\n",
    "    - Use list slicing with steps to create a subset containing every second letter.\n",
    "    - Print the original list and the subset.\n",
    "- Modify Original List:\n",
    "    - Modify the original list by replacing the sliced elements with a new set of values.\n",
    "    - Print the modified original list."
   ]
  },
  {
   "cell_type": "code",
   "execution_count": 18,
   "metadata": {},
   "outputs": [
    {
     "name": "stdout",
     "output_type": "stream",
     "text": [
      "Original list: [1, 2, 3, 9, 10]\n",
      "Subset with Negative Indices: [3, 9, 10]\n",
      "\n",
      "Original Alphabet: ['a', 'b', 'c', 'd', 'e', 'f', 'g', 'h', 'i', 'j']\n",
      "Subset with Steps: ['a', 'c', 'e', 'g', 'i']\n",
      "\n",
      "Modified Original List: [1, 2, 6, 18, 20]\n"
     ]
    }
   ],
   "source": [
    "# Negative Index Slicing\n",
    "original_list = [1, 2, 3, 9, 10]\n",
    "subset_list = original_list[-3:]\n",
    "print(f\"Original list: {original_list}\\nSubset with Negative Indices: {subset_list}\\n\")\n",
    "\n",
    "# Slicing with Steps\n",
    "alphabet = ['a', 'b', 'c', 'd', 'e', 'f', 'g', 'h', 'i', 'j']\n",
    "subset_alphabet = alphabet[0::2]\n",
    "print(f\"Original Alphabet: {alphabet}\\nSubset with Steps: {subset_alphabet}\\n\")\n",
    "\n",
    "# Modify Original List\n",
    "for index, number in enumerate(original_list, start=0):\n",
    "    original_list[index] = number * 2 if number in original_list[-3:] else number\n",
    "print(f\"Modified Original List: {original_list}\")"
   ]
  },
  {
   "cell_type": "markdown",
   "metadata": {},
   "source": [
    "Working with CSV File\n",
    "\n",
    "- Write to CSV:\n",
    "    - Create a list of lists containing data (e.g., information about individuals).\n",
    "    - Use the csv.writer module to write the data to a CSV file named \"people.csv\".\n",
    "- Read from CSV:\n",
    "    - Implement a function named read_csv_file that takes the filename as a parameter and prints the contents of the CSV file.\n",
    "    - Call the function with the \"people.csv\" file.\n",
    "- Update CSV Data:\n",
    "    - Modify the list of lists to include new information or update existing values.\n",
    "    - Use the csv.writer module to overwrite the existing \"people.csv\" file with the updated data."
   ]
  },
  {
   "cell_type": "code",
   "execution_count": 21,
   "metadata": {},
   "outputs": [
    {
     "name": "stdout",
     "output_type": "stream",
     "text": [
      "Data from CSV:\n",
      "['Name', 'Age', 'City']\n",
      "['John', '30', 'New York']\n",
      "['Mike', '28', 'Sydney']\n",
      "\n",
      "Updated Data from CSV:\n",
      "['Name', 'Age', 'City']\n",
      "['John', 30, 'New York']\n",
      "['Mike', 33, 'Paris']\n",
      "['David', 29, 'Berlin']\n"
     ]
    }
   ],
   "source": [
    "import csv\n",
    "\n",
    "# Data for CSV\n",
    "dataset = [[\"Name\", \"Age\", \"City\"],\n",
    "    [\"John\", 30, \"New York\"],\n",
    "    [\"Mike\", 28, \"Sydney\"]]\n",
    "\n",
    "# Write to CSV\n",
    "with open(\"people.csv\", \"w\", newline=\"\") as csv_file:\n",
    "    csv_writer = csv.writer(csv_file)\n",
    "    csv_writer.writerows(dataset)\n",
    "\n",
    "# Read from CSV\n",
    "print(\"Data from CSV:\")\n",
    "def read_csv(filename):\n",
    "    with open(filename, \"r\") as csv_file:\n",
    "        csv_reader = csv.reader(csv_file)\n",
    "        for row in csv_reader:\n",
    "            print(row)\n",
    "\n",
    "read_csv(\"people.csv\")\n",
    "\n",
    "# Update CSV Data\n",
    "dataset[2][2] = \"Paris\"\n",
    "dataset[2][1] = 33\n",
    "dataset.append([\"David\", 29, \"Berlin\"])\n",
    "\n",
    "# Read and print updated data from CSV file\n",
    "print(\"\\nUpdated Data from CSV:\")\n",
    "for row in dataset:\n",
    "    print(row)\n",
    "with open(\"people.csv\", \"w\", newline=\"\") as csv_file:\n",
    "    csv_writer = csv.writer(csv_file)\n",
    "    csv_writer.writerows(dataset)"
   ]
  },
  {
   "cell_type": "markdown",
   "metadata": {},
   "source": [
    "Regular Expressions\n",
    "\n",
    "- Basic Pattern Matching:\n",
    "    - Create a string containing information (e.g., a sentence with a specific format).\n",
    "    - Use the re.search function to find and extract specific information from the string.\n",
    "    - Print the extracted information.\n",
    "\n",
    "- Advanced Matching:\n",
    "    - Modify the original string to include multiple occurrences of a specific pattern (e.g., multiple prices in a sentence).\n",
    "    - Use the re.findall function to find and extract all occurrences of the pattern.\n",
    "    - Print the list of extracted values."
   ]
  },
  {
   "cell_type": "code",
   "execution_count": 32,
   "metadata": {},
   "outputs": [
    {
     "name": "stdout",
     "output_type": "stream",
     "text": [
      "Extracted information : 8.5\n",
      "All extracted information : ['8.5', '9.6', '10.11']\n"
     ]
    }
   ],
   "source": [
    "import re\n",
    "\n",
    "# Basic Pattern Matching\n",
    "text = \"An orange price is $8.5\"\n",
    "match = re.search(r'\\$(\\d+\\.\\d+)', text)\n",
    "if match:\n",
    "    print(f\"Extracted information :\", match.group(1))\n",
    "else:\n",
    "    print(\"No match\")\n",
    "\n",
    "# Advanced Matching\n",
    "text = \"Orange prices are $8.5, $9.6, and $10.11\"\n",
    "match = re.findall(r'\\$(\\d+\\.\\d+)', text)\n",
    "if match:\n",
    "    print(f\"All extracted information :\", match)\n",
    "else:\n",
    "    print(\"No match\")\n"
   ]
  },
  {
   "cell_type": "markdown",
   "metadata": {},
   "source": [
    "Itertools\n",
    "\n",
    "- Basic Combinations:\n",
    "    - Create a list of numbers.\n",
    "    - Use the itertools.combinations function to generate all possible combinations of a specific length.\n",
    "    - Print the combinations.\n",
    "\n",
    "- Cartesian Product:\n",
    "    - Create two lists of items (e.g., colors and sizes).\n",
    "    - Use the itertools.product function to generate the Cartesian product of the two lists.\n",
    "    - Print the Cartesian product."
   ]
  },
  {
   "cell_type": "code",
   "execution_count": 35,
   "metadata": {},
   "outputs": [
    {
     "name": "stdout",
     "output_type": "stream",
     "text": [
      "Basic Combinations: [(1, 2), (1, 3), (1, 4), (2, 3), (2, 4), (3, 4)]\n",
      "\n",
      "Cartesian Product: \n",
      "('red', 'small')\n",
      "('red', 'medium')\n",
      "('red', 'large')\n",
      "('blue', 'small')\n",
      "('blue', 'medium')\n",
      "('blue', 'large')\n",
      "('orange', 'small')\n",
      "('orange', 'medium')\n",
      "('orange', 'large')\n"
     ]
    }
   ],
   "source": [
    "from itertools import combinations, product\n",
    "\n",
    "# Basic Combinations\n",
    "numbers = [1, 2, 3, 4]\n",
    "combinations_list = list(combinations(numbers, 2))\n",
    "print(f\"Basic Combinations: {combinations_list}\")\n",
    "\n",
    "# Cartesian Product\n",
    "colors = [\"red\", \"blue\", \"orange\"]\n",
    "size = [\"small\", \"medium\", \"large\"]\n",
    "cartesian_product = list(product(colors, size))\n",
    "print(f\"\\nCartesian Product: \")\n",
    "for item in cartesian_product:\n",
    "    print(item)"
   ]
  },
  {
   "cell_type": "markdown",
   "metadata": {},
   "source": [
    "Data Time\n",
    "\n",
    "- Basic Date and Time:\n",
    "    - Use the datetime.now() function to get the current date and time.\n",
    "    - Print the current date and time.\n",
    "- Formatted Date:\n",
    "    - Format the current date and time using the strftime method with a specific format string (\"%Y-%m-%d %H:%M:%S\" & \"%A, %B %d, %Y %I:%M %p\").\n",
    "    - Print the formatted date and time."
   ]
  },
  {
   "cell_type": "code",
   "execution_count": 37,
   "metadata": {},
   "outputs": [
    {
     "name": "stdout",
     "output_type": "stream",
     "text": [
      "Current Date and Time: 2024-01-12 00:30:38.781015\n",
      "\n",
      "Format Date (Option 1): 2024-01-12 00:30:38\n",
      "Format Date (Option 2): Friday, January 12, 2024 12:30 AM\n"
     ]
    }
   ],
   "source": [
    "from datetime import datetime\n",
    "\n",
    "# Basic Date and Time\n",
    "time = datetime.now()\n",
    "print(f\"Current Date and Time: {time}\\n\")\n",
    "\n",
    "# Formatted Date (Option 1)\n",
    "time = datetime.strftime(datetime.now(), \"%Y-%m-%d %H:%M:%S\")\n",
    "print(f\"Format Date (Option 1): {time}\")\n",
    "\n",
    "# Formatted Date (Option 2)\n",
    "time = datetime.strftime(datetime.now(), \"%A, %B %d, %Y %I:%M %p\")\n",
    "print(f\"Format Date (Option 2): {time}\")"
   ]
  }
 ],
 "metadata": {
  "kernelspec": {
   "display_name": "Python 3 (ipykernel)",
   "language": "python",
   "name": "python3"
  },
  "language_info": {
   "codemirror_mode": {
    "name": "ipython",
    "version": 3
   },
   "file_extension": ".py",
   "mimetype": "text/x-python",
   "name": "python",
   "nbconvert_exporter": "python",
   "pygments_lexer": "ipython3",
   "version": "3.12.0"
  }
 },
 "nbformat": 4,
 "nbformat_minor": 2
}
